{
 "cells": [
  {
   "cell_type": "markdown",
   "metadata": {},
   "source": [
    "# Lesson 1 - Design A Poker Game\n",
    "\n",
    "This notebook will go through all the units of poker game taught at Lesson 1 by Peter Norvig."
   ]
  },
  {
   "cell_type": "markdown",
   "metadata": {},
   "source": [
    "## Game Rule\n",
    "\n",
    "Four suits: clubs, diamonds, hearts, spades\n",
    "\n",
    "Hand Ranking\n",
    "1. High card\n",
    "2. One pair\n",
    "3. Two pair\n",
    "4. Three of a kind\n",
    "5. Straight\n",
    "6. Flush\n",
    "7. Full house\n",
    "8. Four of a kind\n",
    "9. Straight flush\n",
    "10. Five of a kind\n",
    "\n",
    "[Wiki](https://en.wikipedia.org/wiki/List_of_poker_hand_categories)"
   ]
  },
  {
   "cell_type": "code",
   "execution_count": 47,
   "metadata": {
    "collapsed": true
   },
   "outputs": [],
   "source": [
    "def card_ranks(cards):\n",
    "    \"Return a list of the ranks, sorted with higher first.\"\n",
    "    ranks = [\"--23456789TJQKA\".index(r) for r,s in cards]\n",
    "    ranks.sort(reverse=True)\n",
    "    return [5, 4, 3, 2, 1] if (ranks == [14, 5, 4, 3, 2]) else ranks"
   ]
  },
  {
   "cell_type": "code",
   "execution_count": 48,
   "metadata": {
    "collapsed": true
   },
   "outputs": [],
   "source": [
    "def straight(ranks):\n",
    "    \"Return True if the ordered ranks form a 5-card straight.\"\n",
    "    return (max(ranks) - min(ranks)) == 4 and len(set(ranks)) == 5"
   ]
  },
  {
   "cell_type": "code",
   "execution_count": 49,
   "metadata": {
    "collapsed": true
   },
   "outputs": [],
   "source": [
    "def flush(hand):\n",
    "    \"Return True if all the cards have the same suit.\"\n",
    "    suits = [card[1] for card in hand]\n",
    "    return len(set(suits)) == 1"
   ]
  },
  {
   "cell_type": "code",
   "execution_count": 50,
   "metadata": {
    "collapsed": true
   },
   "outputs": [],
   "source": [
    "def kind(n, ranks):\n",
    "    \"\"\"Return the first rank that this hand has exactly n of.\n",
    "    Return None if there is no n-of-a-kind in the hand.\"\"\"\n",
    "    for rank in ranks:\n",
    "        if ranks.count(rank) == n: return rank\n",
    "    return None"
   ]
  },
  {
   "cell_type": "code",
   "execution_count": 51,
   "metadata": {
    "collapsed": false
   },
   "outputs": [],
   "source": [
    "def two_pair(ranks):\n",
    "    \"\"\"If there are two pair, return the two ranks as a\n",
    "    tuple: (highest, lowest); otherwise return None.\"\"\"\n",
    "    pairs = set([rank for rank in ranks if ranks.count(rank) == 2])\n",
    "    if len(pairs) != 2:\n",
    "        return None\n",
    "    else:\n",
    "        return (max(pairs), min(pairs))"
   ]
  },
  {
   "cell_type": "code",
   "execution_count": 52,
   "metadata": {
    "collapsed": true
   },
   "outputs": [],
   "source": [
    "def hand_rank(hand):\n",
    "    \"Return a value indicating the ranking of a hand.\"\n",
    "    ranks = card_ranks(hand)\n",
    "    if straight(ranks) and flush(hand): # Straight flush\n",
    "        return (8, max(ranks))\n",
    "    elif kind(4, ranks): # Four of a kind\n",
    "        return (7, kind(4, ranks), kind(1, ranks))\n",
    "    elif kind(3, ranks) and kind(2, ranks): # Full house\n",
    "        return (6, kind(3, ranks), kind(2, ranks))\n",
    "    elif flush(hand): # Flush\n",
    "        return (5, ranks)\n",
    "    elif straight(ranks): # Straight\n",
    "        return (4, max(ranks))\n",
    "    elif kind(3, ranks): # Three of a kind\n",
    "        return (3, kind(3, ranks), ranks)\n",
    "    elif two_pair(ranks): # Two pair\n",
    "        return (2, two_pair(ranks), ranks)\n",
    "    elif kind(2, ranks): # One pair\n",
    "        return (1, kind(2, ranks), ranks)\n",
    "    else: # High card\n",
    "        return (0, ranks)"
   ]
  },
  {
   "cell_type": "code",
   "execution_count": 53,
   "metadata": {
    "collapsed": true
   },
   "outputs": [],
   "source": [
    "def allmax(iterable, key=None):\n",
    "    \"Return a list of all items equal to the max of the iterable.\"\n",
    "    key = key or (lambda x: x)\n",
    "    Max = max(iterable, key=key)\n",
    "    return [item for item in iterable if key(item) == key(Max)]"
   ]
  },
  {
   "cell_type": "code",
   "execution_count": 54,
   "metadata": {
    "collapsed": true
   },
   "outputs": [],
   "source": [
    "def poker(hands):\n",
    "    \"Return a list of winning hands: poker([hand,...]) => [hand,...]\"\n",
    "    return allmax(hands, key=hand_rank)"
   ]
  },
  {
   "cell_type": "code",
   "execution_count": 55,
   "metadata": {
    "collapsed": false
   },
   "outputs": [
    {
     "name": "stdout",
     "output_type": "stream",
     "text": [
      "All tests pass!\n"
     ]
    }
   ],
   "source": [
    "def test():\n",
    "    \"Test cases for the functions in poker program\"\n",
    "    sf = \"6C 7C 8C 9C TC\".split()\n",
    "    sf2 = \"6D 7D 8D 9D TD\".split()\n",
    "    fk = \"9D 9H 9S 9C 7D\".split() \n",
    "    fh = \"TD TC TH 7C 7D\".split()\n",
    "    tp = \"TD TC AD AC 9C\".split()\n",
    "    \n",
    "    sf_ranks = card_ranks(sf)\n",
    "    fk_ranks = card_ranks(fk)\n",
    "    tp_ranks = card_ranks(tp)\n",
    "    \n",
    "    # Test cases for card_ranks\n",
    "    assert card_ranks(['AC', '3D', '4S', 'KH']) == [14, 13, 4, 3]\n",
    "    assert card_ranks(sf) == [10, 9, 8, 7, 6]\n",
    "    assert card_ranks(['AC', '2D', '3C', '4D', '5H']) == [5, 4, 3, 2, 1]\n",
    "    # Test cases straight\n",
    "    assert straight(sf_ranks) == True\n",
    "    assert straight(fk_ranks) == False\n",
    "    # Test cases for flush\n",
    "    assert flush(sf) == True\n",
    "    assert flush(fk) == False\n",
    "    # Test cases for kind\n",
    "    assert kind(4, fk_ranks) == 9\n",
    "    assert kind(4, sf_ranks) == None\n",
    "    # Test cases for two pairs\n",
    "    assert two_pair(tp_ranks) == (14, 10)\n",
    "    assert two_pair(fk_ranks) == None\n",
    "    # Test cases for poker\n",
    "    assert poker([sf, fk, fh]) == [sf]\n",
    "    assert poker([fk, fh]) == [fk]\n",
    "    assert poker([fh, fh]) == [fh, fh]\n",
    "    assert poker([sf]) == [sf]\n",
    "    assert poker([sf] + 99*[fh]) == [sf]\n",
    "    assert poker([sf, sf2, fk]) == [sf, sf2]\n",
    "    # Test cases for hand_rank\n",
    "    assert hand_rank(sf) == (8, 10)\n",
    "    assert hand_rank(fk) == (7, 9, 7)\n",
    "    assert hand_rank(fh) == (6, 10, 7)\n",
    "    print \"All tests pass!\"\n",
    "test()"
   ]
  },
  {
   "cell_type": "code",
   "execution_count": 56,
   "metadata": {
    "collapsed": false
   },
   "outputs": [
    {
     "name": "stdout",
     "output_type": "stream",
     "text": [
      "[['2C', 'JD', 'QH', '7C', 'KS'], ['AH', '9H', '5C', 'QD', '6H']]\n"
     ]
    }
   ],
   "source": [
    "import random\n",
    "\n",
    "mydeck = [r+s for r in '23456789TJQKA' for s in 'SHDC']\n",
    "def deal(numhands, n=5, deck=mydeck):\n",
    "    random.shuffle(mydeck)\n",
    "    hands = []\n",
    "    for i in range(numhands):\n",
    "        hands.append(mydeck[i*n:(i+1)*n])\n",
    "    return hands\n",
    "\n",
    "print deal(2)"
   ]
  },
  {
   "cell_type": "code",
   "execution_count": 57,
   "metadata": {
    "collapsed": false
   },
   "outputs": [],
   "source": [
    "from tqdm import tnrange\n",
    "\n",
    "def hand_percentage(n=1*1000):\n",
    "    counts = [0]*9\n",
    "    hand_names = [\"High card\", \"One pair\", \"Two pair\", \"Three of a kind\", \"Straight\",\n",
    "                  \"Flush\", \"Full house\", \"Four of a kind\", \"Straight flush\"]\n",
    "    for i in tnrange(n/10):\n",
    "        for hand in deal(10):\n",
    "            ranking = hand_rank(hand)[0]\n",
    "            counts[ranking] += 1\n",
    "    for i in reversed(range(9)):\n",
    "        print \"{:16}: {:06.3f}\".format(hand_names[i], 100.*counts[i]/n)"
   ]
  },
  {
   "cell_type": "code",
   "execution_count": 58,
   "metadata": {
    "collapsed": false
   },
   "outputs": [
    {
     "name": "stdout",
     "output_type": "stream",
     "text": [
      "\n",
      "Straight flush  : 00.001\n",
      "Four of a kind  : 00.021\n",
      "Full house      : 00.136\n",
      "Flush           : 00.188\n",
      "Straight        : 00.407\n",
      "Three of a kind : 02.097\n",
      "Two pair        : 04.857\n",
      "One pair        : 42.093\n",
      "High card       : 50.200\n"
     ]
    }
   ],
   "source": [
    "hand_percentage(100*1000)"
   ]
  },
  {
   "cell_type": "markdown",
   "metadata": {},
   "source": [
    "## Refactoring"
   ]
  },
  {
   "cell_type": "code",
   "execution_count": 59,
   "metadata": {
    "collapsed": true
   },
   "outputs": [],
   "source": [
    "def group(items):\n",
    "    groups = [(items.count(item), item) for item in set(items)]\n",
    "    return sorted(groups, reverse=True)"
   ]
  },
  {
   "cell_type": "code",
   "execution_count": 60,
   "metadata": {
    "collapsed": true
   },
   "outputs": [],
   "source": [
    "def hand_rank(hand):\n",
    "    groups = group([\"--23456789TJQKA\".index(r) for r,s in hand])\n",
    "    counts, ranks = zip(*groups)\n",
    "    if ranks == (14, 5, 4, 3, 2):\n",
    "        ranks = (5, 4, 3, 2, 1)\n",
    "    isStraight = straight(ranks)\n",
    "    isFlush = flush(hand)\n",
    "    return (8 if isStraight and isFlush else\n",
    "            7 if (4, 1) == counts else\n",
    "            6 if (3, 2) == counts else\n",
    "            5 if isFlush else\n",
    "            4 if isStraight else\n",
    "            3 if (3, 1, 1) == counts else\n",
    "            2 if (2, 2, 1) == counts else\n",
    "            1 if (2, 1, 1, 1) == counts else\n",
    "            0), ranks"
   ]
  },
  {
   "cell_type": "code",
   "execution_count": 61,
   "metadata": {
    "collapsed": false
   },
   "outputs": [
    {
     "name": "stdout",
     "output_type": "stream",
     "text": [
      "All tests pass!\n"
     ]
    }
   ],
   "source": [
    "def test():\n",
    "    \"Test cases for the functions in poker program\"\n",
    "    sf = \"6C 7C 8C 9C TC\".split()\n",
    "    sf2 = \"6D 7D 8D 9D TD\".split()\n",
    "    fk = \"9D 9H 9S 9C 7D\".split() \n",
    "    fh = \"TD TC TH 7C 7D\".split()\n",
    "    tp = \"TD TC AD AC 9C\".split()\n",
    "    \n",
    "    # Test cases for group\n",
    "    assert group([6, 7, 8, 9, 10]) == [(1, 10), (1, 9), (1, 8), (1, 7), (1, 6)]\n",
    "    assert group([9, 9, 9, 9, 7]) == [(4, 9), (1, 7)]\n",
    "    assert group([10, 10, 10, 7, 7]) == [(3, 10), (2, 7)]\n",
    "    # Test cases for group\n",
    "    assert hand_rank(sf) == (8, (10, 9, 8, 7, 6))\n",
    "    assert hand_rank(fk) == (7, (9, 7))\n",
    "    assert hand_rank(fh) == (6, (10, 7))\n",
    "    assert hand_rank(tp) == (2, (14, 10, 9))\n",
    "    print \"All tests pass!\"\n",
    "test()"
   ]
  },
  {
   "cell_type": "markdown",
   "metadata": {
    "collapsed": true
   },
   "source": [
    "## Problems"
   ]
  },
  {
   "cell_type": "code",
   "execution_count": 62,
   "metadata": {
    "collapsed": false
   },
   "outputs": [],
   "source": [
    "import itertools\n",
    "def best_hand(hand):\n",
    "    \"\"\"From a more than 5 card hand, return the best 5-card hand.\"\"\"\n",
    "    return max(itertools.combinations(hand, 5), key=hand_rank)"
   ]
  },
  {
   "cell_type": "code",
   "execution_count": 97,
   "metadata": {
    "collapsed": false
   },
   "outputs": [],
   "source": [
    "allranks = \"23456789TJQKA\"\n",
    "Blacks = [x+y for x in allranks for y in \"SC\"]\n",
    "Reds = [x+y for x in allranks for y in \"DH\"]\n",
    "\n",
    "def best_wild_hand(hand):\n",
    "    \"\"\"Try all values for jokers in all 5-card selections.\"\"\"\n",
    "    allhands = set(best_hand(set(h)) for h in itertools.product(*map(replacement, hand)) if len(set(h)) >= 5)\n",
    "    return max(allhands, key=hand_rank)\n",
    "\n",
    "def replacement(card):\n",
    "    if card == \"?B\": return Blacks\n",
    "    elif card == \"?R\": return Reds\n",
    "    else: return [card]"
   ]
  },
  {
   "cell_type": "code",
   "execution_count": null,
   "metadata": {
    "collapsed": true
   },
   "outputs": [],
   "source": []
  }
 ],
 "metadata": {
  "kernelspec": {
   "display_name": "Python 2",
   "language": "python",
   "name": "python2"
  },
  "language_info": {
   "codemirror_mode": {
    "name": "ipython",
    "version": 2
   },
   "file_extension": ".py",
   "mimetype": "text/x-python",
   "name": "python",
   "nbconvert_exporter": "python",
   "pygments_lexer": "ipython2",
   "version": "2.7.11"
  }
 },
 "nbformat": 4,
 "nbformat_minor": 0
}
