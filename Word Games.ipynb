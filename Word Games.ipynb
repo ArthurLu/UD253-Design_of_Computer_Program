{
 "cells": [
  {
   "cell_type": "markdown",
   "metadata": {
    "collapsed": true
   },
   "source": [
    "# Problem 1"
   ]
  },
  {
   "cell_type": "code",
   "execution_count": 5,
   "metadata": {
    "collapsed": false
   },
   "outputs": [],
   "source": [
    "def anagrams(phrase, shortest=2):\n",
    "    \"\"\"Return a set of phrases with words from WORDS that form anagram\n",
    "    of phrase. Spaces can be anywhere in phrase or anagram. All words \n",
    "    have length >= shortest. Phrases in answer must have words in \n",
    "    lexicographic order (not all permutations).\"\"\"\n",
    "    results = []\n",
    "    phrase = phrase.replace(' ', '')\n",
    "    words = find_words(phrase)\n",
    "    def _check(w, p):\n",
    "        return len(w) + len(removed(p, w)) == len(p)\n",
    "    \n",
    "    def _helper(parents, _words, _phrase):\n",
    "        if _phrase == '':\n",
    "            results.append(' '.join(sorted(parents)))\n",
    "        elif _words:\n",
    "            word = _words.pop()\n",
    "            if len(word) >= shortest and _check(word, _phrase):\n",
    "                _helper(parents+[word], set(_words), removed(_phrase, word))\n",
    "            _helper(parents, _words, _phrase)\n",
    "    _helper([], words, phrase)\n",
    "    return set(results)\n",
    "# ------------\n",
    "# Helpful functions\n",
    "# \n",
    "# You may find the following functions useful. These functions\n",
    "# are identical to those we defined in lecture. \n",
    "\n",
    "def removed(letters, remove):\n",
    "    \"Return a str of letters, but with each letter in remove removed once.\"\n",
    "    for L in remove:\n",
    "        letters = letters.replace(L, '', 1)\n",
    "    return letters\n",
    "\n",
    "def find_words(letters):\n",
    "    return extend_prefix('', letters, set())\n",
    "\n",
    "def extend_prefix(pre, letters, results):\n",
    "    if pre in WORDS: results.add(pre)\n",
    "    if pre in PREFIXES:\n",
    "        for L in letters:\n",
    "            extend_prefix(pre+L, letters.replace(L, '', 1), results)\n",
    "    return results\n",
    "\n",
    "def prefixes(word):\n",
    "    \"A list of the initial sequences of a word, not including the complete word.\"\n",
    "    return [word[:i] for i in range(len(word))]\n",
    "\n",
    "def readwordlist(filename):\n",
    "    \"Return a pair of sets: all the words in a file, and all the prefixes. (Uppercased.)\"\n",
    "    wordset = set(open(filename).read().upper().split())\n",
    "    prefixset = set(p for word in wordset for p in prefixes(word))\n",
    "    return wordset, prefixset\n",
    "\n",
    "WORDS, PREFIXES = readwordlist('words4k.txt')\n",
    "\n",
    "# ------------\n",
    "# Testing\n",
    "# \n",
    "# Run the function test() to see if your function behaves as expected.\n",
    "\n",
    "def test():\n",
    "    assert 'DOCTOR WHO' in anagrams('TORCHWOOD')\n",
    "    assert 'BOOK SEC TRY' in anagrams('OCTOBER SKY')\n",
    "    assert 'SEE THEY' in anagrams('THE EYES')\n",
    "    assert 'LIVES' in anagrams('ELVIS')\n",
    "    assert anagrams('PYTHONIC') == set([\n",
    "        'NTH PIC YO', 'NTH OY PIC', 'ON PIC THY', 'NO PIC THY', 'COY IN PHT',\n",
    "        'ICY NO PHT', 'ICY ON PHT', 'ICY NTH OP', 'COP IN THY', 'HYP ON TIC',\n",
    "        'CON PI THY', 'HYP NO TIC', 'COY NTH PI', 'CON HYP IT', 'COT HYP IN',\n",
    "        'CON HYP TI'])\n",
    "    return 'tests pass'\n",
    "\n",
    "print test()"
   ]
  },
  {
   "cell_type": "markdown",
   "metadata": {},
   "source": [
    "# Problem 2"
   ]
  },
  {
   "cell_type": "code",
   "execution_count": 16,
   "metadata": {
    "collapsed": false
   },
   "outputs": [
    {
     "data": {
      "text/plain": [
       "True"
      ]
     },
     "execution_count": 16,
     "metadata": {},
     "output_type": "execute_result"
    }
   ],
   "source": [
    "'c' > 'ba'"
   ]
  },
  {
   "cell_type": "markdown",
   "metadata": {
    "collapsed": true
   },
   "source": [
    "# Problem 3"
   ]
  },
  {
   "cell_type": "code",
   "execution_count": 1,
   "metadata": {
    "collapsed": false
   },
   "outputs": [
    {
     "data": {
      "text/plain": [
       "{1, 2}"
      ]
     },
     "execution_count": 1,
     "metadata": {},
     "output_type": "execute_result"
    }
   ],
   "source": [
    "# In this problem, you will define a function, boggle_words(), \n",
    "# that takes a board as input and returns a set of words that\n",
    "# can be made from the board according to the rules of Boggle.\n",
    "\n",
    "def boggle_words(board, minlength=3):\n",
    "    \"Find all the words on this Boggle board; return as a set of words.\"\n",
    "    result = set()\n",
    "    N = int(len(board)**0.5)\n",
    "    def _dfs(word, _i, index):\n",
    "        for n in neighbors(_i, N):\n",
    "            if n not in index and board[n] != '|':\n",
    "                _word = word+board[n]\n",
    "                if _word in WORDS and len(_word) >= minlength:\n",
    "                    result.add(_word)\n",
    "                if _word in PREFIXES:\n",
    "                    _dfs(_word, n, index | set([n]))\n",
    "    for (i, c) in enumerate(board):\n",
    "        if c != '|':\n",
    "            _dfs(c, i, set([i]))\n",
    "    return result\n",
    "    \n",
    "def test():\n",
    "    b = Board('XXXX TEST XXXX XXXX')\n",
    "    assert b == '|||||||XXXX||TEST||XXXX||XXXX|||||||'\n",
    "    assert display(b) == \"\"\"\n",
    "||||||\n",
    "|XXXX|\n",
    "|TEST|\n",
    "|XXXX|\n",
    "|XXXX|\n",
    "||||||\"\"\".strip()\n",
    "    assert boggle_words(b) == set(['SET', 'SEX', 'TEST'])\n",
    "    assert neighbors(20, 6) == (13, 14, 15, 19, 21, 25, 26, 27)\n",
    "    assert len(boggle_words(Board('TPLER ORAIS METND DASEU NOWRB'))) == 317\n",
    "    assert boggle_words(Board('PLAY THIS WORD GAME')) == set([\n",
    "        'LID', 'SIR', 'OAR', 'LIS', 'RAG', 'SAL', 'RAM', 'RAW', 'SAY', 'RID', \n",
    "        'RIA', 'THO', 'HAY', 'MAR', 'HAS', 'AYS', 'PHI', 'OIL', 'MAW', 'THIS', \n",
    "        'LAY', 'RHO', 'PHT', 'PLAYS', 'ASIDE', 'ROM', 'RIDE', 'ROT', 'ROW', 'MAG', \n",
    "        'THIRD', 'WOT', 'MORE', 'WOG', 'WORE', 'SAID', 'MOR', 'SAIL', 'MOW', 'MOT', \n",
    "        'LAID', 'MOA', 'LAS', 'MOG', 'AGO', 'IDS', 'HAIR', 'GAME', 'REM', 'HOME', \n",
    "        'RED', 'WORD', 'WHA', 'WHO', 'WHOM', 'YID', 'DRAW', 'WAG', 'SRI', 'TOW', \n",
    "        'DRAG', 'YAH', 'WAR', 'MED', 'HIRE', 'TOWARDS', 'ORS', 'ALT', 'ORE', 'SIDE', \n",
    "        'ALP', 'ORA', 'TWA', 'ERS', 'TOR', 'TWO', 'AIS', 'AIR', 'AIL', 'ERA', 'TOM', \n",
    "        'AID', 'TOG', 'DIS', 'HIS', 'GAR', 'GAM', 'HID', 'HOG', 'PLAY', 'GOA', 'HOW', \n",
    "        'HOT', 'WARM', 'GOT', 'IRE', 'GOR', 'ARS', 'ARM', 'ARE', 'TOWARD', 'THROW'])    \n",
    "    return 'tests pass'\n",
    "\n",
    "    \n",
    "def Board(text):\n",
    "    \"\"\"Input is a string of space-separated rows of N letters each;\n",
    "    result is a string of size (N+2)**2 with borders all around.\"\"\"\n",
    "    rows = text.split()\n",
    "    N = len(rows)\n",
    "    rows = [BORDER*N] + rows + [BORDER*N]\n",
    "    return ''.join(BORDER + row + BORDER for row in rows)\n",
    "\n",
    "def size(board): return int(len(board)**0.5)\n",
    "\n",
    "def neighbors(i, N):\n",
    "    return (i-N-1, i-N, i-N+1, i-1, i+1, i+N-1, i+N, i+N+1)\n",
    "\n",
    "BORDER = '|'\n",
    "\n",
    "def display(board):\n",
    "    \"Return a string representation of board, suitable for printing.\"\n",
    "    N = size(board)\n",
    "    return '\\n'.join(board[i:i+N] for i in range(0, N**2, N))\n",
    "\n",
    "# ------------\n",
    "# Helpful functions\n",
    "# \n",
    "# You may find the following functions useful. These functions\n",
    "# are identical to those we defined in lecture. \n",
    "\n",
    "def prefixes(word):\n",
    "    \"A list of the initial sequences of a word, not including the complete word.\"\n",
    "    return [word[:i] for i in range(len(word))]\n",
    "\n",
    "def readwordlist(filename):\n",
    "    \"Return a pair of sets: all the words in a file, and all the prefixes. (Uppercased.)\"\n",
    "    wordset = set(open(filename).read().upper().split())\n",
    "    prefixset = set(p for word in wordset for p in prefixes(word))\n",
    "    return wordset, prefixset\n",
    "\n",
    "WORDS, PREFIXES = readwordlist('words4k.txt')\n",
    "\n",
    "print test()"
   ]
  },
  {
   "cell_type": "code",
   "execution_count": null,
   "metadata": {
    "collapsed": true
   },
   "outputs": [],
   "source": []
  }
 ],
 "metadata": {
  "anaconda-cloud": {},
  "kernelspec": {
   "display_name": "Python [default]",
   "language": "python",
   "name": "python2"
  },
  "language_info": {
   "codemirror_mode": {
    "name": "ipython",
    "version": 2
   },
   "file_extension": ".py",
   "mimetype": "text/x-python",
   "name": "python",
   "nbconvert_exporter": "python",
   "pygments_lexer": "ipython2",
   "version": "2.7.12"
  }
 },
 "nbformat": 4,
 "nbformat_minor": 1
}
