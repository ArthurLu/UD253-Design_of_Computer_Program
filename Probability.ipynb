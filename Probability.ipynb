{
 "cells": [
  {
   "cell_type": "markdown",
   "metadata": {
    "collapsed": true
   },
   "source": [
    "# Play Pig"
   ]
  },
  {
   "cell_type": "code",
   "execution_count": 2,
   "metadata": {
    "collapsed": false
   },
   "outputs": [
    {
     "name": "stdout",
     "output_type": "stream",
     "text": [
      "tests pass\n"
     ]
    }
   ],
   "source": [
    "import random\n",
    "\n",
    "possible_moves = ['roll', 'hold']\n",
    "other = {1:0, 0:1}\n",
    "goal = 50\n",
    "\n",
    "def clueless(state):\n",
    "    \"A strategy that ignores the state and chooses at random from possible moves.\"\n",
    "    return random.choice(possible_moves)\n",
    "\n",
    "def hold(state):\n",
    "    \"\"\"Apply the hold action to a state to yield a new state:\n",
    "    Reap the 'pending' points and it becomes the other player's turn.\"\"\"\n",
    "    (p, me, you, pending) = state\n",
    "    return (other[p], you, me+pending, 0)\n",
    "\n",
    "def roll(state, d):\n",
    "    \"\"\"Apply the roll action to a state (and a die roll d) to yield a new state:\n",
    "    If d is 1, get 1 point (losing any accumulated 'pending' points),\n",
    "    and it is the other player's turn. If d > 1, add d to 'pending' points.\"\"\"\n",
    "    (p, me, you, pending) = state\n",
    "    if d == 1:\n",
    "        return (other[p], you, me+1, 0) # pig out; other player's turn\n",
    "    else:\n",
    "        return (p, me, you, pending+d)  # accumulate die roll in pending\n",
    "\n",
    "def reach_goal(state):\n",
    "    if state[2] is goal:\n",
    "        return (state[0], state[2])\n",
    "    elif state[3]+state[1] is goal:\n",
    "        return (state[0], state[1])\n",
    "    else:\n",
    "        return []\n",
    "\n",
    "def play_pig(A, B):\n",
    "    \"\"\"Play a game of pig between two players, represented by their strategies.\n",
    "    Each time through the main loop we ask the current player for one decision,\n",
    "    which must be 'hold' or 'roll', and we update the state accordingly.\n",
    "    When one player's score exceeds the goal, return that player.\"\"\"\n",
    "    state = (0, 0, 0, 0)\n",
    "    players = [A, B]\n",
    "    while True:\n",
    "        (p, me, you, pending) = state\n",
    "        if me >= goal:\n",
    "            return players[p]\n",
    "        elif you >= goal:\n",
    "            return players[other[p]]\n",
    "        elif players[p](state) is 'hold':\n",
    "            state = hold(state)\n",
    "        else:\n",
    "            state = roll(state, random.randint(1, 6))\n",
    "            \n",
    "def always_roll(state):\n",
    "    return 'roll'\n",
    "\n",
    "def always_hold(state):\n",
    "    return 'hold'\n",
    "\n",
    "def test():\n",
    "    for _ in range(10):\n",
    "        winner = play_pig(always_hold, always_roll)\n",
    "        assert winner.__name__ == 'always_roll'\n",
    "    return 'tests pass'\n",
    "\n",
    "print test()"
   ]
  },
  {
   "cell_type": "markdown",
   "metadata": {
    "collapsed": true
   },
   "source": [
    "# Optimal Strategy"
   ]
  },
  {
   "cell_type": "code",
   "execution_count": null,
   "metadata": {
    "collapsed": true
   },
   "outputs": [],
   "source": [
    "from functools import update_wrapper\n",
    "\n",
    "def decorator(d):\n",
    "    \"Make function d a decorator: d wraps a function fn.\"\n",
    "    def _d(fn):\n",
    "        return update_wrapper(d(fn), fn)\n",
    "    update_wrapper(_d, d)\n",
    "    return _d\n",
    "\n",
    "@decorator\n",
    "def memo(f):\n",
    "    \"\"\"Decorator that caches the return value for each call to f(args).\n",
    "    Then when called again with same args, we can just look it up.\"\"\"\n",
    "    cache = {}\n",
    "    def _f(*args):\n",
    "        try:\n",
    "            return cache[args]\n",
    "        except KeyError:\n",
    "            cache[args] = result = f(*args)\n",
    "            return result\n",
    "        except TypeError:\n",
    "            # some element of args can't be a dict key\n",
    "            return f(args)\n",
    "    return _f\n",
    "\n",
    "other = {1:0, 0:1}\n",
    "\n",
    "def roll(state, d):\n",
    "    \"\"\"Apply the roll action to a state (and a die roll d) to yield a new state:\n",
    "    If d is 1, get 1 point (losing any accumulated 'pending' points),\n",
    "    and it is the other player's turn. If d > 1, add d to 'pending' points.\"\"\"\n",
    "    (p, me, you, pending) = state\n",
    "    if d == 1:\n",
    "        return (other[p], you, me+1, 0) # pig out; other player's turn\n",
    "    else:\n",
    "        return (p, me, you, pending+d)  # accumulate die roll in pending\n",
    "\n",
    "def hold(state):\n",
    "    \"\"\"Apply the hold action to a state to yield a new state:\n",
    "    Reap the 'pending' points and it becomes the other player's turn.\"\"\"\n",
    "    (p, me, you, pending) = state\n",
    "    return (other[p], you, me+pending, 0)\n",
    "\n",
    "def Q_pig(state, action, Pwin):  \n",
    "    \"The expected value of choosing action in state.\"\n",
    "    if action == 'hold':\n",
    "        return 1 - Pwin(hold(state))\n",
    "    if action == 'roll':\n",
    "        return (1 - Pwin(roll(state, 1))\n",
    "                + sum(Pwin(roll(state, d)) for d in (2,3,4,5,6))) / 6.\n",
    "    raise ValueError\n",
    "\n",
    "def best_action(state, actions, Q, U):\n",
    "    \"Return the optimal action for a state, given U.\"\n",
    "    def EU(action): return Q(state, action, U)\n",
    "    return max(actions(state), key=EU)\n",
    "\n",
    "def pig_actions(state):\n",
    "    \"The legal actions from a state.\"\n",
    "    _, _, _, pending = state\n",
    "    return ['roll', 'hold'] if pending else ['roll']\n",
    "\n",
    "goal = 40\n",
    "\n",
    "@memo\n",
    "def Pwin(state):\n",
    "    \"\"\"The utility of a state; here just the probability that an optimal player\n",
    "    whose turn it is to move can win from the current state.\"\"\"\n",
    "    # Assumes opponent also plays with optimal strategy.\n",
    "    (p, me, you, pending) = state\n",
    "    if me + pending >= goal:\n",
    "        return 1\n",
    "    elif you >= goal:\n",
    "        return 0\n",
    "    else:\n",
    "        return max(Q_pig(state, action, Pwin)\n",
    "                   for action in pig_actions(state))\n",
    "\n",
    "def max_wins(state):\n",
    "    \"The optimal pig strategy chooses an action with the highest win probability.\"\n",
    "    return best_action(state, pig_actions, Q_pig, Pwin)\n",
    "\n",
    "\n",
    "def test():\n",
    "    assert(max_wins((1, 5, 34, 4)))   == \"roll\"\n",
    "    assert(max_wins((1, 18, 27, 8)))  == \"roll\"\n",
    "    assert(max_wins((0, 23, 8, 8)))   == \"roll\"\n",
    "    assert(max_wins((0, 31, 22, 9)))  == \"hold\"\n",
    "    assert(max_wins((1, 11, 13, 21))) == \"roll\"\n",
    "    assert(max_wins((1, 33, 16, 6)))  == \"roll\"\n",
    "    assert(max_wins((1, 12, 17, 27))) == \"roll\"\n",
    "    assert(max_wins((1, 9, 32, 5)))   == \"roll\"\n",
    "    assert(max_wins((0, 28, 27, 5)))  == \"roll\"\n",
    "    assert(max_wins((1, 7, 26, 34)))  == \"hold\"\n",
    "    assert(max_wins((1, 20, 29, 17))) == \"roll\"\n",
    "    assert(max_wins((0, 34, 23, 7)))  == \"hold\"\n",
    "    assert(max_wins((0, 30, 23, 11))) == \"hold\"\n",
    "    assert(max_wins((0, 22, 36, 6)))  == \"roll\"\n",
    "    assert(max_wins((0, 21, 38, 12))) == \"roll\"\n",
    "    assert(max_wins((0, 1, 13, 21)))  == \"roll\"\n",
    "    assert(max_wins((0, 11, 25, 14))) == \"roll\"\n",
    "    assert(max_wins((0, 22, 4, 7)))   == \"roll\"\n",
    "    assert(max_wins((1, 28, 3, 2)))   == \"roll\"\n",
    "    assert(max_wins((0, 11, 0, 24)))  == \"roll\"\n",
    "    return 'tests pass'\n",
    "\n",
    "print test()"
   ]
  },
  {
   "cell_type": "markdown",
   "metadata": {},
   "source": [
    "# Probability"
   ]
  },
  {
   "cell_type": "code",
   "execution_count": 4,
   "metadata": {
    "collapsed": false
   },
   "outputs": [
    {
     "data": {
      "text/plain": [
       "Fraction(1, 3)"
      ]
     },
     "execution_count": 4,
     "metadata": {},
     "output_type": "execute_result"
    }
   ],
   "source": [
    "import itertools\n",
    "from fractions import Fraction\n",
    "\n",
    "sex = 'BG'\n",
    "\n",
    "def product(*variables):\n",
    "    \"\"\"The cartesian product (as a str) of the possibilities for each variable.\"\"\"\n",
    "    return map(''.join, itertools.product(*variables))\n",
    "\n",
    "two_kids = product(sex, sex)\n",
    "\n",
    "one_boy = [s for s in two_kids if 'B' in s]\n",
    "\n",
    "def two_boys(s): return s.count('B') == 2\n",
    "\n",
    "def condP(predicate, event):\n",
    "    \"\"\"Conditional probability: P(predicate(s) | s in event).\n",
    "    The proportion of states in event for which predicate is true.\"\"\"\n",
    "    pred = [s for s in event if predicate(s)]\n",
    "    return Fraction(len(pred), len(event))\n",
    "\n",
    "condP(two_boys, one_boy)"
   ]
  },
  {
   "cell_type": "markdown",
   "metadata": {},
   "source": [
    "Out of all famalies with two kids with at least one boy born on a Tuesday, what is the probability of two boys?"
   ]
  },
  {
   "cell_type": "code",
   "execution_count": 6,
   "metadata": {
    "collapsed": false
   },
   "outputs": [
    {
     "data": {
      "text/plain": [
       "Fraction(13, 27)"
      ]
     },
     "execution_count": 6,
     "metadata": {},
     "output_type": "execute_result"
    }
   ],
   "source": [
    "day = 'SMTWtFs'\n",
    "\n",
    "two_kids_bday = product(sex, day, sex, day)\n",
    "\n",
    "boy_tuesday = [s for s in two_kids_bday if 'BT' in s]\n",
    "\n",
    "condP(two_boys, boy_tuesday)"
   ]
  },
  {
   "cell_type": "markdown",
   "metadata": {
    "collapsed": true
   },
   "source": [
    "# Problem 1"
   ]
  },
  {
   "cell_type": "code",
   "execution_count": 2,
   "metadata": {
    "collapsed": false
   },
   "outputs": [
    {
     "name": "stdout",
     "output_type": "stream",
     "text": [
      "tests pass\n"
     ]
    }
   ],
   "source": [
    "# In this problem, you will use a faster version of Pwin, which we will call\n",
    "# Pwin2, that takes a state as input but ignores whether it is player 1 or \n",
    "# player 2 who starts. This will reduce the number of computations to about \n",
    "# half. You will define a function, Pwin3, which will be called by Pwin2.\n",
    "#\n",
    "# Pwin3 will only take me, you, and pending as input and will return the \n",
    "# probability of winning. \n",
    "#\n",
    "# Keep in mind that the probability that I win from a position is always\n",
    "# (1 - probability that my opponent wins).\n",
    "\n",
    "\n",
    "from functools import update_wrapper\n",
    "\n",
    "def decorator(d):\n",
    "    \"Make function d a decorator: d wraps a function fn.\"\n",
    "    def _d(fn):\n",
    "        return update_wrapper(d(fn), fn)\n",
    "    update_wrapper(_d, d)\n",
    "    return _d\n",
    "\n",
    "@decorator\n",
    "def memo(f):\n",
    "    \"\"\"Decorator that caches the return value for each call to f(args).\n",
    "    Then when called again with same args, we can just look it up.\"\"\"\n",
    "    cache = {}\n",
    "    def _f(*args):\n",
    "        try:\n",
    "            return cache[args]\n",
    "        except KeyError:\n",
    "            cache[args] = result = f(*args)\n",
    "            return result\n",
    "        except TypeError:\n",
    "            # some element of args refuses to be a dict key\n",
    "            return f(args)\n",
    "    _f.cache = cache\n",
    "    return _f\n",
    "\n",
    "goal = 40\n",
    "\n",
    "def Pwin2(state):\n",
    "   \"\"\"The utility of a state; here just the probability that an optimal player\n",
    "   whose turn it is to move can win from the current state.\"\"\"\n",
    "   _, me, you, pending = state\n",
    "   return Pwin3(me, you, pending)\n",
    "\n",
    "@memo\n",
    "def Pwin3(me, you, pending):\n",
    "    if me + pending >= goal:\n",
    "        return 1\n",
    "    elif you >= goal:\n",
    "        return 0\n",
    "    else:\n",
    "        Proll = (1 - Pwin3(you, me+1, 0) + sum(Pwin3(me, you, pending+d) for d in range(2, 7))) / 6.0\n",
    "        return max(Proll, 1 - Pwin3(you, me+pending, 0)) if pending else Proll\n",
    "    \n",
    "def test():\n",
    "    epsilon = 0.0001 # used to make sure that floating point errors don't cause test() to fail\n",
    "    assert goal == 40\n",
    "    assert len(Pwin3.cache) <= 50000\n",
    "    assert Pwin2((0, 42, 25, 0)) == 1\n",
    "    assert Pwin2((1, 12, 43, 0)) == 0\n",
    "    assert Pwin2((0, 34, 42, 1)) == 0\n",
    "    assert abs(Pwin2((0, 25, 32, 8)) - 0.736357188272) <= epsilon\n",
    "    assert abs(Pwin2((0, 19, 35, 4)) - 0.493173612834) <= epsilon\n",
    "    return 'tests pass'\n",
    "\n",
    "print test()"
   ]
  },
  {
   "cell_type": "markdown",
   "metadata": {
    "collapsed": true
   },
   "source": [
    "# Problem 3"
   ]
  },
  {
   "cell_type": "code",
   "execution_count": null,
   "metadata": {
    "collapsed": true
   },
   "outputs": [],
   "source": [
    "import random\n",
    "\n",
    "def foxes_and_hens(strategy, foxes=7, hens=45):\n",
    "    \"\"\"Play the game of foxes and hens.\"\"\"\n",
    "    # A state is a tuple of (score-so-far, number-of-hens-in-yard, deck-of-cards)\n",
    "    state = (score, yard, cards) = (0, 0, 'F'*foxes + 'H'*hens)\n",
    "    while cards:\n",
    "        action = strategy(state)\n",
    "        state = (score, yard, cards) = do(action, state)\n",
    "    return score + yard\n",
    "\n",
    "def do(action, state):\n",
    "    \"Apply action to state, returning a new state.\"\n",
    "    # Make sure you always use up one card.\n",
    "    score, yard, cards = state\n",
    "    i = random.randint(0, len(cards)-1)\n",
    "    card = cards[i]\n",
    "    cards = cards[:i]+cards[i+1:]\n",
    "    if action == 'wait':\n",
    "        return (score, 0, cards) if card == 'F' else (score, yard+1, cards)\n",
    "    else:\n",
    "        return (score+yard, 0, cards)\n",
    "    \n",
    "def take5(state):\n",
    "    \"A strategy that waits until there are 5 hens in yard, then gathers.\"\n",
    "    (score, yard, cards) = state\n",
    "    if yard < 5:\n",
    "        return 'wait'\n",
    "    else:\n",
    "        return 'gather'\n",
    "\n",
    "def average_score(strategy, N=1000):\n",
    "    return sum(foxes_and_hens(strategy) for _ in range(N)) / float(N)\n",
    "\n",
    "def superior(A, B=take5):\n",
    "    \"Does strategy A have a higher average score than B, by more than 1.5 point?\"\n",
    "    return average_score(A) - average_score(B) > 1.5\n",
    "\n",
    "def strategy(state):\n",
    "    (score, yard, cards) = state\n",
    "    if cards.count('H') / len(cards) > 0.5:\n",
    "        return 'wait'\n",
    "    elif yard < 3:\n",
    "        return 'wait'\n",
    "    else:\n",
    "        return 'gather'\n",
    "\n",
    "def test():\n",
    "    gather = do('gather', (4, 5, 'F'*4 + 'H'*10))\n",
    "    assert (gather == (9, 0, 'F'*3 + 'H'*10) or \n",
    "            gather == (9, 0, 'F'*4 + 'H'*9))\n",
    "    \n",
    "    wait = do('wait', (10, 3, 'FFHH'))\n",
    "    assert (wait == (10, 4, 'FFH') or\n",
    "            wait == (10, 0, 'FHH'))\n",
    "    \n",
    "    assert superior(strategy)\n",
    "    return 'tests pass'\n",
    "\n",
    "print test()"
   ]
  }
 ],
 "metadata": {
  "anaconda-cloud": {},
  "kernelspec": {
   "display_name": "Python [default]",
   "language": "python",
   "name": "python2"
  },
  "language_info": {
   "codemirror_mode": {
    "name": "ipython",
    "version": 2
   },
   "file_extension": ".py",
   "mimetype": "text/x-python",
   "name": "python",
   "nbconvert_exporter": "python",
   "pygments_lexer": "ipython2",
   "version": "2.7.12"
  }
 },
 "nbformat": 4,
 "nbformat_minor": 0
}
