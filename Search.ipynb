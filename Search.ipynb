{
 "cells": [
  {
   "cell_type": "markdown",
   "metadata": {},
   "source": [
    "# Water Pouring"
   ]
  },
  {
   "cell_type": "code",
   "execution_count": 28,
   "metadata": {
    "collapsed": false
   },
   "outputs": [
    {
     "name": "stdout",
     "output_type": "stream",
     "text": [
      "{(0, 9): 'fill Y', (0, 0): 'empty Y', (4, 0): 'fill X'}\n",
      "[(0, 0), 'fill Y', (0, 9), 'X<-Y', (4, 5), 'empty X', (0, 5), 'X<-Y', (4, 1), 'empty X', (0, 1), 'X<-Y', (1, 0), 'fill Y', (1, 9), 'X<-Y', (4, 6)]\n"
     ]
    }
   ],
   "source": [
    "def pour_solution(X, Y, goal, start=(0, 0)):\n",
    "    \"\"\"X and Y are the capacity of glasses; (x, y) is current fill levels\n",
    "    and represents a state. The goal is a level that can be in either glass.\n",
    "    Start at start state and follow successors until we reach the goal.\n",
    "    Keep track of frontier and previously explored; fail when no frontier\"\"\"\n",
    "    \n",
    "    if goal in start:\n",
    "        return [start]\n",
    "    explored = set() # set of states we have visited\n",
    "    frontier = [[start]] # ordered list of paths we have blazed\n",
    "    while frontier:\n",
    "        path = frontier.pop(0)\n",
    "        (x, y) = path[-1] # Last state in the first path of the frontier\n",
    "        for (state, action) in successors(x, y, X, Y).items():\n",
    "            if state not in explored:\n",
    "                explored.add(state)\n",
    "                path2 = path + [action, state]\n",
    "                if goal in state:\n",
    "                    return path2\n",
    "                else:\n",
    "                    frontier.append(path2)\n",
    "    return Fail\n",
    "\n",
    "Fail = []\n",
    "\n",
    "def successors(x, y, X, Y):\n",
    "    \"\"\"Return a dict of {state: action} pairs describing what can be reached from the (x, y) state, and how.\"\"\"\n",
    "    assert x <= X and y <= Y ## (x, y) is glass levels; X and Y are glass sizes\n",
    "    return {((0, y+x) if x+y<=Y else (x-(Y-y), y+(Y-y))): \"X->Y\",\n",
    "            ((x+y, 0) if x+y<=X else (x+(X-x), y-(X-x))): \"X<-Y\",\n",
    "            (X, y): \"fill X\", (x, Y): \"fill Y\",\n",
    "            (0, y): \"empty X\", (x, 0): \"empty Y\"}\n",
    "\n",
    "print successors(0,0,4,9)\n",
    "print pour_solution(4,9,6)"
   ]
  },
  {
   "cell_type": "code",
   "execution_count": 36,
   "metadata": {
    "collapsed": false
   },
   "outputs": [
    {
     "name": "stdout",
     "output_type": "stream",
     "text": [
      "TestResults(failed=0, attempted=4)\n"
     ]
    }
   ],
   "source": [
    "import doctest\n",
    "from pprint import pprint as _\n",
    "\n",
    "class Test: \"\"\"\n",
    ">>> _(successors(0, 0, 4, 9))\n",
    "{(0, 0): 'empty Y', (0, 9): 'fill Y', (4, 0): 'fill X'}\n",
    "\n",
    ">>> _(successors(3, 5, 4, 9))\n",
    "{(0, 5): 'empty X',\n",
    " (0, 8): 'X->Y',\n",
    " (3, 0): 'empty Y',\n",
    " (3, 9): 'fill Y',\n",
    " (4, 4): 'X<-Y',\n",
    " (4, 5): 'fill X'}\n",
    "\n",
    ">>> _(successors(3, 7, 4, 9))\n",
    "{(0, 7): 'empty X',\n",
    " (1, 9): 'X->Y',\n",
    " (3, 0): 'empty Y',\n",
    " (3, 9): 'fill Y',\n",
    " (4, 6): 'X<-Y',\n",
    " (4, 7): 'fill X'}\n",
    " \n",
    ">>> pour_solution(4, 9, 6)\n",
    "[(0, 0), 'fill Y', (0, 9), 'X<-Y', (4, 5), 'empty X', (0, 5), 'X<-Y', (4, 1), 'empty X', (0, 1), \\\n",
    "'X<-Y', (1, 0), 'fill Y', (1, 9), 'X<-Y', (4, 6)]\n",
    "\"\"\"\n",
    "\n",
    "print doctest.testmod()"
   ]
  },
  {
   "cell_type": "markdown",
   "metadata": {
    "collapsed": true
   },
   "source": [
    "# Bridge Problem"
   ]
  },
  {
   "cell_type": "code",
   "execution_count": 1,
   "metadata": {
    "collapsed": false
   },
   "outputs": [
    {
     "name": "stdout",
     "output_type": "stream",
     "text": [
      "tests pass\n"
     ]
    }
   ],
   "source": [
    "def bsuccessors(state):\n",
    "    \"\"\"Return a dict of {state:action} pairs.  A state is a (here, there, t) tuple,\n",
    "    where here and there are frozensets of people (indicated by their times) and/or\n",
    "    the light, and t is a number indicating the elapsed time.\"\"\"\n",
    "    here, there, t = state\n",
    "    if 'light' in here:\n",
    "        return dict(((here  - frozenset([a,b, 'light']),\n",
    "                      there | frozenset([a, b, 'light']),\n",
    "                      t + max(a, b)),\n",
    "                     (a, b, '->'))\n",
    "                    for a in here if a is not 'light'\n",
    "                    for b in here if b is not 'light')\n",
    "    else:\n",
    "        return dict(((here  | frozenset([a,b, 'light']),\n",
    "                      there - frozenset([a, b, 'light']),\n",
    "                      t + max(a, b)),\n",
    "                     (a, b, '<-'))\n",
    "                    for a in there if a is not 'light'\n",
    "                    for b in there if b is not 'light')  \n",
    "        \n",
    "def elapsed_time(path):\n",
    "    return path[-1][2]\n",
    "\n",
    "def bridge_problem(here):\n",
    "    \"\"\"Modify this to test for goal later: after pulling a state off frontier,\n",
    "    not when we are about to put it on the frontier.\"\"\"\n",
    "    ## modify code below\n",
    "    here = frozenset(here) | frozenset(['light'])\n",
    "    explored = set() # set of states we have visited\n",
    "    # State will be a (people-here, people-there, time-elapsed)\n",
    "    frontier = [ [(here, frozenset(), 0)] ] # ordered list of paths we have blazed\n",
    "    if not here:\n",
    "        return frontier[0]\n",
    "    while frontier:\n",
    "        path = frontier.pop(0)\n",
    "        here1, there1, t1 = state1 = path[-1]\n",
    "        if not here1 or here1 == set(['light']): # Check for solution when we pull the best path\n",
    "            return path\n",
    "        for (state, action) in bsuccessors(state1).items():\n",
    "            if state not in explored:\n",
    "                here, there, t = state\n",
    "                explored.add(state)\n",
    "                path2 = path + [action, state]\n",
    "                # Don't check for solution when we extend a path\n",
    "                frontier.append(path2)\n",
    "                frontier.sort(key=elapsed_time)\n",
    "    return []\n",
    "\n",
    "def test():\n",
    "    assert bridge_problem(frozenset((1, 2),))[-1][-1] == 2 # the [-1][-1] grabs the total elapsed time\n",
    "    assert bridge_problem(frozenset((1, 2, 5, 10),))[-1][-1] == 17\n",
    "    return 'tests pass'\n",
    "\n",
    "print test()"
   ]
  },
  {
   "cell_type": "code",
   "execution_count": 29,
   "metadata": {
    "collapsed": false
   },
   "outputs": [
    {
     "name": "stdout",
     "output_type": "stream",
     "text": [
      "tests pass\n"
     ]
    }
   ],
   "source": [
    "def bsuccessors2(state):\n",
    "    \"\"\"Return a dict of {state:action} pairs. A state is a\n",
    "    (here, there) tuple, where here and there are frozensets\n",
    "    of people (indicated by their travel times) and/or the light.\"\"\"\n",
    "    here, there = state\n",
    "    if 'light' in here:\n",
    "        return dict(((here  - frozenset([a,b, 'light']),\n",
    "                      there | frozenset([a, b, 'light'])),\n",
    "                     (a, b, '->'))\n",
    "                    for a in here if a is not 'light'\n",
    "                    for b in here if b is not 'light')\n",
    "    else:\n",
    "        return dict(((here  | frozenset([a,b, 'light']),\n",
    "                      there - frozenset([a, b, 'light'])),\n",
    "                     (a, b, '<-'))\n",
    "                    for a in there if a is not 'light'\n",
    "                    for b in there if b is not 'light')\n",
    "    \n",
    "def path_cost(path):\n",
    "    \"\"\"The total cost of a path (which is stored in a tuple\n",
    "    with the final action.\"\"\"\n",
    "    # path = (state, (action, total_cost), state, ... )\n",
    "    if len(path) < 3:\n",
    "        return 0\n",
    "    else:\n",
    "        action, total_cost = path[-2]\n",
    "        return total_cost\n",
    "        \n",
    "def bcost(action):\n",
    "    \"\"\"Returns the cost (a number) of an action in the\n",
    "    bridge problem.\"\"\"\n",
    "    # An action is an (a, b, arrow) tuple; a and b are \n",
    "    # times; arrow is a string. \n",
    "    a, b, arrow = action\n",
    "    return max(a, b)\n",
    "\n",
    "def elapsed_time(path):\n",
    "    return path[-1][2]\n",
    "\n",
    "def final_state(path):\n",
    "    return path[-1]\n",
    "\n",
    "def add_to_frontier(frontier, path):\n",
    "    \"\"\"Add path to frontier, replacing costlier path if there is one.\"\"\"\n",
    "    old = None\n",
    "    for i, p in enumerate(frontier):\n",
    "        if final_state(p) == final_state(path):\n",
    "            old = i\n",
    "            break\n",
    "    if old is not None and path_cost(frontier[i]) < path_cost(path):\n",
    "        return # Old one is better\n",
    "    elif old is not None:\n",
    "        del frontier[old] # Old one is worse\n",
    "    frontier.append(path)\n",
    "    frontier.sort(key=path_cost)\n",
    "    \n",
    "def bridge_problem2(here):\n",
    "    \"\"\"Another approach to solve bridge problem. The main difference would be restructure a new way to\n",
    "    describe state\"\"\"\n",
    "    here = frozenset(here) | frozenset(['light'])\n",
    "    # State will be a (people-here, people-there)\n",
    "    frontier = [ [(here, frozenset())] ] # ordered list of paths we have blazed\n",
    "    if not here:\n",
    "        return frontier[0]\n",
    "    while frontier:\n",
    "        path = frontier.pop(0)\n",
    "        here1, _ = state1 = final_state(path)\n",
    "        if not here1 or here1 == set(['light']): # Check for solution when we pull the best path\n",
    "            return path\n",
    "        pcost = path_cost(path)\n",
    "        for (state, action) in bsuccessors2(state1).items():\n",
    "            total_cost = bcost(action) + pcost\n",
    "            path2 = path + [(action, total_cost), state]\n",
    "            add_to_frontier(frontier, path2)\n",
    "    return []\n",
    "\n",
    "def test():\n",
    "    assert path_cost(bridge_problem2(frozenset((1, 2),))) == 2 # the [-1][-1] grabs the total elapsed time\n",
    "    assert path_cost(bridge_problem2(frozenset((1, 2, 5, 10),))) == 17\n",
    "    return 'tests pass'\n",
    "\n",
    "print test()"
   ]
  },
  {
   "cell_type": "markdown",
   "metadata": {},
   "source": [
    "# Generalization"
   ]
  },
  {
   "cell_type": "code",
   "execution_count": 35,
   "metadata": {
    "collapsed": false
   },
   "outputs": [
    {
     "name": "stdout",
     "output_type": "stream",
     "text": [
      "tests pass\n"
     ]
    }
   ],
   "source": [
    "# A state is a tuple with six entries: (M1, C1, B1, M2, C2, B2), where \n",
    "# M1 means 'number of missionaries on the left side.'\n",
    "#\n",
    "# An action is one of the following ten strings: \n",
    "#\n",
    "# 'MM->', 'MC->', 'CC->', 'M->', 'C->', '<-MM', '<-MC', '<-M', '<-C', '<-CC'\n",
    "# where 'MM->' means two missionaries travel to the right side.\n",
    "# \n",
    "# We should generate successor states that include more cannibals than\n",
    "# missionaries, but such a state should generate no successors.\n",
    "\n",
    "def csuccessors(state):\n",
    "    \"\"\"Find successors (including those that result in dining) to this\n",
    "    state. But a state where the cannibals can dine has no successors.\"\"\"\n",
    "    M1, C1, B1, M2, C2, B2 = state\n",
    "    ans = {}\n",
    "    if C1 <= M1 and C2 <= M2:\n",
    "        if B1:\n",
    "            arrow, B1, B2 = '->', 0, 1\n",
    "            return dict(((M1-m, C1-c, B1, M2+m, C2+c, B2), \n",
    "                          'M'*m + 'C'*c + arrow)\n",
    "                        for m in range(3)\n",
    "                        for c in range(3-m)\n",
    "                        if m+c > 0 and M1-m >= 0 and C1-c >= 0 and (M1-m >= C1-c or M1-m == 0))\n",
    "        else:\n",
    "            arrow, B1, B2 = '<-', 1, 0\n",
    "            return dict(((M1+m, C1+c, B1, M2-m, C2-c, B2), \n",
    "                          arrow + 'M'*m + 'C'*c)\n",
    "                        for m in range(3)\n",
    "                        for c in range(3-m)\n",
    "                        if m+c > 0 and M2-m >= 0 and C2-c >= 0 and (M2-m >= C2-c or M2-m == 0))\n",
    "    else:\n",
    "        return {}\n",
    "\n",
    "        \n",
    "deltas = {(2, 0, 1, -2, 0, -1): 'MM',\n",
    "          (0, 2, 1, 0, -2, -1): 'CC',\n",
    "          (1, 1, 1, -1, -1, -1): 'MC',\n",
    "          (1, 0, 1, -1, 0, -1): 'M',\n",
    "          (0, 1, 1, 0, -1, -1): 'C'}\n",
    "\n",
    "def sub(state, delta):\n",
    "    return tuple(x-y for x, y in zip(state, delta))\n",
    "\n",
    "def add(state, delta):\n",
    "    return tuple(x+y for x, y in zip(state, delta))\n",
    "\n",
    "def test():\n",
    "    assert csuccessors((2, 2, 1, 0, 0, 0)) == {(2, 1, 0, 0, 1, 1): 'C->', \n",
    "                                              (0, 2, 0, 2, 0, 1): 'MM->', \n",
    "                                              (2, 0, 0, 0, 2, 1): 'CC->',\n",
    "                                              (1, 1, 0, 1, 1, 1): 'MC->'}\n",
    "    assert csuccessors((1, 1, 0, 4, 3, 1)) == {(2, 1, 1, 3, 3, 0): '<-M',\n",
    "                                               (1, 2, 1, 4, 2, 0): '<-C',\n",
    "                                               (1, 3, 1, 4, 1, 0): '<-CC',\n",
    "                                               (2, 2, 1, 3, 2, 0): '<-MC'}\n",
    "    assert csuccessors((1, 4, 1, 2, 2, 0)) == {}\n",
    "    return 'tests pass'\n",
    "\n",
    "print test()"
   ]
  },
  {
   "cell_type": "code",
   "execution_count": 36,
   "metadata": {
    "collapsed": false
   },
   "outputs": [
    {
     "name": "stdout",
     "output_type": "stream",
     "text": [
      "[(1, 0, 1, 0, 0, 0), 'M->', (0, 0, 0, 1, 0, 1)]\n"
     ]
    }
   ],
   "source": [
    "def mc_problem(start=(1,0,1,0,0,0), goal=None):\n",
    "    \"\"\"Solve the missionaires and cannibals problem.\n",
    "    State is 6 ints: (M1, C1, B1, M2, C2, B2) on the start (1) and the other (2) sides.\n",
    "    Find a path that goes from initial state to the goal state(which, if not specified,\n",
    "    is the state with no people or boats on the start side.)\"\"\"\n",
    "    if goal is None:\n",
    "        goal = (0, 0, 0) + start[:3]\n",
    "    if start == goal:\n",
    "        return [start]\n",
    "    explored = set()\n",
    "    frontier = [[start]]\n",
    "    while frontier:\n",
    "        path = frontier.pop(0)\n",
    "        state = path[-1]\n",
    "        for s, a in csuccessors(state).items():\n",
    "            if s not in explored:\n",
    "                explored.add(s)\n",
    "                path2 = path + [a, s]\n",
    "                if s == goal:\n",
    "                    return path2\n",
    "                else:\n",
    "                    frontier.append(path2)\n",
    "    return []\n",
    "\n",
    "print mc_problem()"
   ]
  },
  {
   "cell_type": "markdown",
   "metadata": {},
   "source": [
    "# Problem 1"
   ]
  },
  {
   "cell_type": "code",
   "execution_count": null,
   "metadata": {
    "collapsed": true
   },
   "outputs": [],
   "source": [
    "# A state is a (here, there, light) tuple. Here and there are \n",
    "# frozensets of people (each person is represented by an integer\n",
    "# which corresponds to their travel time), and light is 0 if \n",
    "# it is on the `here` side and 1 if it is on the `there` side.\n",
    "#\n",
    "# An action is a tuple of (travelers, arrow), where the arrow is\n",
    "# '->' or '<-'. See the test() function below for some examples\n",
    "# of what your function's input and output should look like.\n",
    "\n",
    "def bsuccessors3(state):\n",
    "    \"\"\"Return a dict of {state:action} pairs.  State is (here, there, light)\n",
    "    where here and there are frozen sets of people, light is 0 if the light is \n",
    "    on the here side and 1 if it is on the there side.\n",
    "    Action is a tuple (travelers, arrow) where arrow is '->' or '<-'\"\"\"\n",
    "    here, there, light = state\n",
    "    if light == 0:\n",
    "        return dict(((here  - frozenset([a,b]),\n",
    "                      there | frozenset([a, b]),\n",
    "                      1),\n",
    "                     (set([a, b]), '->'))\n",
    "                    for a in here\n",
    "                    for b in here)\n",
    "    else:\n",
    "        return dict(((here  | frozenset([a,b]),\n",
    "                      there - frozenset([a, b]),\n",
    "                      0),\n",
    "                     (set([a, b]), '<-'))\n",
    "                    for a in there\n",
    "                    for b in there)\n",
    "\n",
    "\n",
    "def test():\n",
    "    assert bsuccessors3((frozenset([1]), frozenset([]), 0)) == {\n",
    "            (frozenset([]), frozenset([1]), 1)  :  (set([1]), '->')}\n",
    "\n",
    "    assert bsuccessors3((frozenset([1, 2]), frozenset([]), 0)) == {\n",
    "            (frozenset([1]), frozenset([2]), 1)    :  (set([2]), '->'), \n",
    "            (frozenset([]), frozenset([1, 2]), 1)  :  (set([1, 2]), '->'), \n",
    "            (frozenset([2]), frozenset([1]), 1)    :  (set([1]), '->')}\n",
    "\n",
    "    assert bsuccessors3((frozenset([2, 4]), frozenset([3, 5]), 1)) == {\n",
    "            (frozenset([2, 4, 5]), frozenset([3]), 0)   :  (set([5]), '<-'), \n",
    "            (frozenset([2, 3, 4, 5]), frozenset([]), 0) :  (set([3, 5]), '<-'), \n",
    "            (frozenset([2, 3, 4]), frozenset([5]), 0)   :  (set([3]), '<-')}\n",
    "    return 'tests pass'\n",
    "\n",
    "print test()"
   ]
  },
  {
   "cell_type": "markdown",
   "metadata": {},
   "source": [
    "# Problem 2"
   ]
  },
  {
   "cell_type": "code",
   "execution_count": null,
   "metadata": {
    "collapsed": true
   },
   "outputs": [],
   "source": [
    "# Capacities is a tuple of numbers, where each number represents the \n",
    "# volume of a glass. \n",
    "#\n",
    "# Goal is the desired volume and start is a tuple of the starting levels\n",
    "# in each glass. Start defaults to None (all glasses empty).\n",
    "#\n",
    "# The returned path should look like [state, action, state, action, ... ]\n",
    "# where state is a tuple of volumes and action is one of ('fill', i), \n",
    "# ('empty', i), ('pour', i, j) where i and j are indices indicating the \n",
    "# glass number. \n",
    "import itertools as it\n",
    "\n",
    "def more_pour_problem(capacities, goal, start=None):\n",
    "    \"\"\"The first argument is a tuple of capacities (numbers) of glasses; the\n",
    "    goal is a number which we must achieve in some glass.  start is a tuple\n",
    "    of starting levels for each glass; if None, that means 0 for all.\n",
    "    Start at start state and follow successors until we reach the goal.\n",
    "    Keep track of frontier and previously explored; fail when no frontier.\n",
    "    On success return a path: a [state, action, state2, ...] list, where an\n",
    "    action is one of ('fill', i), ('empty', i), ('pour', i, j), where\n",
    "    i and j are indices indicating the glass number.\"\"\"\n",
    "    L = len(capacities)\n",
    "    \n",
    "    if start is None:\n",
    "        start = (0,) * L\n",
    "        \n",
    "    def is_goal(state):\n",
    "        return goal in state\n",
    "    \n",
    "    def update(state, action, indices):\n",
    "        if action == 'fill':\n",
    "            i = indices[0]\n",
    "            return [state[:i] + (capacities[i],) + state[i+1:]]\n",
    "        elif action == 'empty':\n",
    "            i = indices[0]\n",
    "            return [state[:i] + (0,) + state[i+1:]]\n",
    "        else:\n",
    "            i, j = indices\n",
    "            si, sj = state[i], state[j]\n",
    "            ci, cj = capacities[i], capacities[j]\n",
    "            ans = []\n",
    "            if si + sj > cj:\n",
    "                ans.append(state[:i] + (si-(cj-sj),) + state[i+1:j] + (cj,) + state[j+1:])\n",
    "            else:\n",
    "                ans.append(state[:i] + (0,) + state[i+1:j] + (si+sj,) + state[j+1:])\n",
    "            if si + sj > ci:\n",
    "                ans.append(state[:i] + (ci,) + state[i+1:j] + (sj-(ci-si),) + state[j+1:])\n",
    "            else:\n",
    "                ans.append(state[:i] + (si+sj,) + state[i+1:j] + (0,) + state[j+1:])\n",
    "            return ans\n",
    "    \n",
    "    def psuccessors(state):\n",
    "        pairs = [(newState, ('fill', i))\n",
    "                for i in xrange(L)\n",
    "                for newState in update(state, 'fill', [i])]\n",
    "        pairs += [(newState, ('empty', i))\n",
    "                  for i in xrange(L)\n",
    "                  for newState in update(state, 'empty', [i])]\n",
    "        pairs += [(newState, ('pour', j, i))\n",
    "                  for i, j in it.combinations(xrange(L), 2)\n",
    "                  for newState in update(state, 'pour', [i, j])]\n",
    "        return dict(pairs)\n",
    "        \n",
    "    return shortest_path_search(start, psuccessors, is_goal)\n",
    "    \n",
    "    \n",
    "def shortest_path_search(start, successors, is_goal):\n",
    "    \"\"\"Find the shortest path from start state to a state\n",
    "    such that is_goal(state) is true.\"\"\"\n",
    "    if is_goal(start):\n",
    "        return [start]\n",
    "    explored = set()\n",
    "    frontier = [ [start] ] \n",
    "    while frontier:\n",
    "        path = frontier.pop(0)\n",
    "        s = path[-1]\n",
    "        for (state, action) in successors(s).items():\n",
    "            if state not in explored:\n",
    "                explored.add(state)\n",
    "                path2 = path + [action, state]\n",
    "                if is_goal(state):\n",
    "                    return path2\n",
    "                else:\n",
    "                    frontier.append(path2)\n",
    "    return Fail\n",
    "\n",
    "Fail = []\n",
    "    \n",
    "def test_more_pour():\n",
    "    assert more_pour_problem((1, 2, 4, 8), 4) == [\n",
    "        (0, 0, 0, 0), ('fill', 2), (0, 0, 4, 0)]\n",
    "    assert more_pour_problem((1, 2, 4), 3) == [\n",
    "        (0, 0, 0), ('fill', 2), (0, 0, 4), ('pour', 2, 0), (1, 0, 3)] \n",
    "    starbucks = (8, 12, 16, 20, 24)\n",
    "    assert not any(more_pour_problem(starbucks, odd) for odd in (3, 5, 7, 9))\n",
    "    assert all(more_pour_problem((1, 3, 9, 27), n) for n in range(28))\n",
    "    assert more_pour_problem((1, 3, 9, 27), 28) == []\n",
    "    return 'test_more_pour passes'\n",
    "\n",
    "print test_more_pour()"
   ]
  },
  {
   "cell_type": "markdown",
   "metadata": {},
   "source": [
    "# Problem 3"
   ]
  },
  {
   "cell_type": "code",
   "execution_count": 33,
   "metadata": {
    "collapsed": false
   },
   "outputs": [
    {
     "name": "stdout",
     "output_type": "stream",
     "text": [
      "{'foresthills': {'backbay': 'orange'}, 'sullivan': {'oakgrove': 'orange', 'haymarket': 'orange'}, 'kenmore': {'newton': 'green', 'copley': 'green'}, 'newton': {'kenmore': 'green', 'riverside': 'green'}, 'copley': {'kenmore': 'green', 'park': 'green'}, 'suffolk': {'airport': 'blue', 'revere': 'blue'}, 'wonderland': {'revere': 'blue'}, 'oakgrove': {'sullivan': 'orange'}, 'state': {'downtown': 'orange', 'haymarket': 'orange', 'aquarium': 'blue', 'government': 'blue'}, 'umass': {'mattapan': 'red', 'south': 'red'}, 'riverside': {'newton': 'green'}, 'maverick': {'airport': 'blue', 'aquarium': 'blue'}, 'mit': {'charles': 'red', 'central': 'red'}, 'porter': {'davis': 'red', 'harvard': 'red'}, 'alewife': {'davis': 'red'}, 'charles': {'park': 'red', 'mit': 'red'}, 'north': {'science': 'green', 'haymarket': 'green'}, 'government': {'state': 'blue', 'haymarket': 'green', 'park': 'green', 'bowdoin': 'blue'}, 'mattapan': {'umass': 'red'}, 'park': {'downtown': 'red', 'charles': 'red', 'copley': 'green', 'government': 'green'}, 'downtown': {'park': 'red', 'state': 'orange', 'chinatown': 'orange', 'south': 'red'}, 'harvard': {'central': 'red', 'porter': 'red'}, 'aquarium': {'state': 'blue', 'maverick': 'blue'}, 'lechmere': {'science': 'green'}, 'haymarket': {'sullivan': 'orange', 'state': 'orange', 'north': 'green', 'government': 'green'}, 'tufts': {'backbay': 'orange', 'chinatown': 'orange'}, 'backbay': {'foresthills': 'orange', 'tufts': 'orange'}, 'central': {'harvard': 'red', 'mit': 'red'}, 'bowdoin': {'government': 'blue'}, 'science': {'lechmere': 'green', 'north': 'green'}, 'chinatown': {'downtown': 'orange', 'tufts': 'orange'}, 'airport': {'maverick': 'blue', 'suffolk': 'blue'}, 'davis': {'alewife': 'red', 'porter': 'red'}, 'revere': {'wonderland': 'blue', 'suffolk': 'blue'}, 'south': {'downtown': 'red', 'umass': 'red'}}\n"
     ]
    }
   ],
   "source": [
    "# For example, when calling subway(boston), one of the entries in the \n",
    "# resulting dictionary should be 'foresthills': {'backbay': 'orange'}. \n",
    "# This means that foresthills only has one neighbor ('backbay') and \n",
    "# that neighbor is on the orange line. Other stations have more neighbors:\n",
    "# 'state', for example, has 4 neighbors.\n",
    "#\n",
    "# Once you've defined your subway function, you can define a ride and \n",
    "# longest_ride function. ride(here, there, system) takes as input \n",
    "# a starting station (here), a destination station (there), and a subway\n",
    "# system and returns the shortest path.\n",
    "#\n",
    "# longest_ride(system) returns the longest possible ride in a given \n",
    "# subway system. \n",
    "\n"
   ]
  },
  {
   "cell_type": "code",
   "execution_count": 32,
   "metadata": {
    "collapsed": false
   },
   "outputs": [
    {
     "name": "stdout",
     "output_type": "stream",
     "text": [
      "{'a': 1}\n"
     ]
    }
   ],
   "source": [
    "d = {}\n",
    "d['a']=1\n",
    "print d"
   ]
  },
  {
   "cell_type": "code",
   "execution_count": null,
   "metadata": {
    "collapsed": true
   },
   "outputs": [],
   "source": []
  }
 ],
 "metadata": {
  "anaconda-cloud": {},
  "kernelspec": {
   "display_name": "Python [default]",
   "language": "python",
   "name": "python2"
  },
  "language_info": {
   "codemirror_mode": {
    "name": "ipython",
    "version": 2
   },
   "file_extension": ".py",
   "mimetype": "text/x-python",
   "name": "python",
   "nbconvert_exporter": "python",
   "pygments_lexer": "ipython2",
   "version": "2.7.12"
  }
 },
 "nbformat": 4,
 "nbformat_minor": 0
}
