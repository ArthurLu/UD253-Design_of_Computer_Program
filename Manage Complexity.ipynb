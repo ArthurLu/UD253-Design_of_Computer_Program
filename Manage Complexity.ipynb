{
 "cells": [
  {
   "cell_type": "code",
   "execution_count": 21,
   "metadata": {
    "collapsed": false
   },
   "outputs": [],
   "source": [
    "import itertools as it\n",
    "import time"
   ]
  },
  {
   "cell_type": "markdown",
   "metadata": {},
   "source": [
    "# Zebra Puzzle"
   ]
  },
  {
   "cell_type": "code",
   "execution_count": 22,
   "metadata": {
    "collapsed": false
   },
   "outputs": [
    {
     "name": "stdout",
     "output_type": "stream",
     "text": [
      "Computation Time:0.005814 (Water, Zebra):(1, 4)\n"
     ]
    }
   ],
   "source": [
    "def imright(h1, h2):\n",
    "    \"\"\"Return if h2 is right next to h1.\"\"\"\n",
    "    return h2-h1 == 1\n",
    "def nextto(h1, h2):\n",
    "    \"\"\"Return if h1 and h2 is next to each other.\"\"\"\n",
    "    return abs(h2-h1) == 1\n",
    "def zebra_puzzle():\n",
    "    \"\"\"Return a tuple (WATER, ZEBRA) indicating their houses numbers.\"\"\"\n",
    "    houses = first, _, middle, _, _ = range(1,6)\n",
    "    orderings = list(it.permutations(houses))\n",
    "    return next((WATER, ZEBRA)\n",
    "            for (red, green, ivory, yellow, blue) in orderings\n",
    "            if imright(green, ivory)\n",
    "            for (Englishman, Spaniard, Ukranian, Japanese, Norwegian) in orderings\n",
    "            if Englishman is red\n",
    "            if Norwegian is first\n",
    "            if nextto(Norwegian, blue)\n",
    "            for (dog, snails, fox, horse, ZEBRA) in orderings\n",
    "            if Spaniard is dog\n",
    "            for (coffee, tea, milk, oj, WATER) in orderings\n",
    "            if coffee is green\n",
    "            if Ukranian is tea\n",
    "            if milk is middle\n",
    "            for (OldGold, Kools, Chesterfields, LuckyStrike, Parliaments) in orderings\n",
    "            if OldGold is snails\n",
    "            if Kools is yellow\n",
    "            if nextto(Chesterfields, fox)\n",
    "            if nextto(Kools, horse)\n",
    "            if LuckyStrike is oj\n",
    "            if Japanese is Parliaments\n",
    "            )\n",
    "def timedcall(fn, *args):\n",
    "    \"\"\"Call function with args; return the time in seconds and result\"\"\"\n",
    "    t0 = time.clock()\n",
    "    result = fn(*args)\n",
    "    t1 = time.clock()\n",
    "    return t1-t0, result\n",
    "print \"Computation Time:{0} (Water, Zebra):{1}\".format(*timedcall(zebra_puzzle))"
   ]
  },
  {
   "cell_type": "markdown",
   "metadata": {},
   "source": [
    "# Learning how to use \"yield\""
   ]
  },
  {
   "cell_type": "code",
   "execution_count": 23,
   "metadata": {
    "collapsed": false
   },
   "outputs": [],
   "source": [
    "def ints(start, end = None):\n",
    "    \"\"\"Generate integers in the order start, start+1, ... end if end is not None;\n",
    "       Otherwise keep generating.\"\"\"\n",
    "    i = start\n",
    "    while i <= end or end is None:\n",
    "        yield i\n",
    "        i += 1\n",
    "\n",
    "def all_ints():\n",
    "    \"\"\"Generate integers in the order 0, +1, -1, +2, -2, +3, -3, ...\"\"\"\n",
    "    yield 0\n",
    "    for v in ints(1):\n",
    "        yield +v\n",
    "        yield -v\n",
    "\n",
    "test_fn = all_ints()\n",
    "assert [test_fn.next() for _ in xrange(5)] == [0, 1, -1, 2, -2]"
   ]
  },
  {
   "cell_type": "markdown",
   "metadata": {},
   "source": [
    "# Analysing performance"
   ]
  },
  {
   "cell_type": "code",
   "execution_count": 24,
   "metadata": {
    "collapsed": false
   },
   "outputs": [
    {
     "name": "stdout",
     "output_type": "stream",
     "text": [
      "It takes around 0.006 seconds to find the answer.\n"
     ]
    }
   ],
   "source": [
    "def average(numbers):\n",
    "    \"\"\"Return the average (arithmetic mean) of a sequence of numbers.\"\"\"\n",
    "    return sum(numbers) / float(len(numbers))\n",
    "\n",
    "def timedcalls(n, fn, *args):\n",
    "    \"\"\"Call fn(*args) repeatedly: n times if n is an int, or up to\n",
    "    n seconds if n is a float; return the min, avg, and max time\"\"\"\n",
    "    if isinstance(n, int):\n",
    "        times = [timedcall(fn, *args)[0] for _ in xrange(n)]\n",
    "    else:\n",
    "        times = []\n",
    "        while sum(times) <= n:\n",
    "            times.append(timedcall(fn, *args)[0])\n",
    "    return min(times), average(times), max(times)\n",
    "\n",
    "print \"It takes around {1:.3f} seconds to find the answer.\".format(*timedcalls(10, zebra_puzzle))"
   ]
  },
  {
   "cell_type": "code",
   "execution_count": 25,
   "metadata": {
    "collapsed": false
   },
   "outputs": [
    {
     "name": "stdout",
     "output_type": "stream",
     "text": [
      "zebra_puzzle got (1, 4) with   298 iters over   35536 items.\n"
     ]
    }
   ],
   "source": [
    "def c(sequence):\n",
    "    \"\"\"Generate items in sequence. c.start is the number of sequences start.\n",
    "    c.count is the number of items generated.\"\"\"\n",
    "    c.start += 1\n",
    "    for item in sequence:\n",
    "        c.count += 1\n",
    "        yield item\n",
    "def zebra_puzzle():\n",
    "    \"\"\"Return a tuple (WATER, ZEBRA) indicating their houses numbers.\"\"\"\n",
    "    houses = first, _, middle, _, _ = range(1,6)\n",
    "    orderings = list(it.permutations(houses))\n",
    "    return next((WATER, ZEBRA)\n",
    "            for (red, green, ivory, yellow, blue) in c(orderings)\n",
    "            if imright(green, ivory)\n",
    "            for (Englishman, Spaniard, Ukranian, Japanese, Norwegian) in c(orderings)\n",
    "            if Englishman is red\n",
    "            if Norwegian is first\n",
    "            if nextto(Norwegian, blue)\n",
    "            for (dog, snails, fox, horse, ZEBRA) in c(orderings)\n",
    "            if Spaniard is dog\n",
    "            for (coffee, tea, milk, oj, WATER) in c(orderings)\n",
    "            if coffee is green\n",
    "            if Ukranian is tea\n",
    "            if milk is middle\n",
    "            for (OldGold, Kools, Chesterfields, LuckyStrike, Parliaments) in c(orderings)\n",
    "            if OldGold is snails\n",
    "            if Kools is yellow\n",
    "            if nextto(Chesterfields, fox)\n",
    "            if nextto(Kools, horse)\n",
    "            if LuckyStrike is oj\n",
    "            if Japanese is Parliaments\n",
    "            )\n",
    "\n",
    "def instrument_fn(fn, *args):\n",
    "    c.start, c.count = 0, 0\n",
    "    result = fn(*args)\n",
    "    print \"{} got {} with {:5d} iters over {:7d} items.\".format(fn.__name__, result, c.start, c.count)\n",
    "    \n",
    "instrument_fn(zebra_puzzle)"
   ]
  },
  {
   "cell_type": "markdown",
   "metadata": {
    "collapsed": true
   },
   "source": [
    "# Cryptarithmetic"
   ]
  },
  {
   "cell_type": "code",
   "execution_count": 1,
   "metadata": {
    "collapsed": false
   },
   "outputs": [
    {
     "name": "stdout",
     "output_type": "stream",
     "text": [
      "655 + 655 == 1310\n",
      "3**2 + 4**2 == 5**2\n",
      "None\n"
     ]
    }
   ],
   "source": [
    "import string, re, itertools\n",
    "\n",
    "def solve(formula):\n",
    "    \"\"\"Given a formula like 'ODD + ODD == EVEN', fill in digits to solve it.\n",
    "    Input formula is a string; output is a digit-filled-in string or None.\"\"\"\n",
    "    for f in fill_in(formula):\n",
    "        if valid(f):\n",
    "            return f\n",
    "    \n",
    "def fill_in(formula):\n",
    "    \"Generate all possible fillings-in of letters in formula with digits.\"\n",
    "    letters = ''.join(set(re.findall('[A-Z]', formula)))\n",
    "    for digits in itertools.permutations('1234567890', len(letters)):\n",
    "        table = string.maketrans(letters, ''.join(digits))\n",
    "        yield formula.translate(table)\n",
    "    \n",
    "def valid(f):\n",
    "    \"\"\"Formula f is valid if and only if it has no \n",
    "    numbers with leading zero, and evals true.\"\"\"\n",
    "    try: \n",
    "        return not re.search(r'\\b0[0-9]', f) and eval(f) is True\n",
    "    except ArithmeticError:\n",
    "        return False\n",
    "    \n",
    "def test():\n",
    "    examples = \"\"\"ODD + ODD == EVEN\n",
    "                  A**2 + B**2 == C**2\n",
    "                  APPLE + PEN == APPLEPEN\"\"\"\n",
    "    for example in examples.strip().split(\"\\n\"):\n",
    "        print solve(example.strip())\n",
    "\n",
    "test()"
   ]
  },
  {
   "cell_type": "code",
   "execution_count": 47,
   "metadata": {
    "collapsed": false
   },
   "outputs": [
    {
     "name": "stdout",
     "output_type": "stream",
     "text": [
      "655 + 655 == 1310\n",
      "3**2 + 4**2 == 5**2\n",
      "None\n",
      "         508164 function calls in 1.914 seconds\n",
      "\n",
      "   Ordered by: standard name\n",
      "\n",
      "   ncalls  tottime  percall  cumtime  percall filename:lineno(function)\n",
      "    57776    0.130    0.000    0.242    0.000 <ipython-input-46-f25448a19df8>:10(fill_in)\n",
      "    57773    0.107    0.000    1.641    0.000 <ipython-input-46-f25448a19df8>:17(valid)\n",
      "        1    0.000    0.000    1.943    1.943 <ipython-input-46-f25448a19df8>:25(test)\n",
      "        3    0.059    0.020    1.942    0.647 <ipython-input-46-f25448a19df8>:3(solve)\n",
      "        1    0.000    0.000    0.000    0.000 <string>:1(<module>)\n",
      "        4    0.000    0.000    0.000    0.000 __init__.py:193(dumps)\n",
      "        1    0.000    0.000    0.000    0.000 attrsettr.py:35(__getattr__)\n",
      "        4    0.000    0.000    0.000    0.000 encoder.py:101(__init__)\n",
      "        4    0.000    0.000    0.000    0.000 encoder.py:186(encode)\n",
      "        4    0.000    0.000    0.000    0.000 encoder.py:212(iterencode)\n",
      "       28    0.000    0.000    0.000    0.000 encoder.py:33(encode_basestring)\n",
      "        2    0.000    0.000    0.000    0.000 encoder.py:37(replace)\n",
      "        1    0.000    0.000    0.000    0.000 hmac.py:100(_current)\n",
      "        1    0.000    0.000    0.000    0.000 hmac.py:119(hexdigest)\n",
      "        1    0.000    0.000    0.000    0.000 hmac.py:30(__init__)\n",
      "        4    0.000    0.000    0.000    0.000 hmac.py:83(update)\n",
      "        1    0.000    0.000    0.000    0.000 hmac.py:88(copy)\n",
      "        7    0.000    0.000    0.000    0.000 iostream.py:102(_check_mp_mode)\n",
      "        1    0.000    0.000    0.000    0.000 iostream.py:123(_flush_from_subprocesses)\n",
      "        1    0.000    0.000    0.001    0.001 iostream.py:151(flush)\n",
      "        6    0.000    0.000    0.001    0.000 iostream.py:207(write)\n",
      "        1    0.000    0.000    0.000    0.000 iostream.py:238(_flush_buffer)\n",
      "        1    0.000    0.000    0.000    0.000 iostream.py:247(_new_buffer)\n",
      "        8    0.000    0.000    0.000    0.000 iostream.py:93(_is_master_process)\n",
      "        1    0.000    0.000    0.000    0.000 iostream.py:96(_is_master_thread)\n",
      "        4    0.000    0.000    0.000    0.000 jsonapi.py:31(dumps)\n",
      "        1    0.000    0.000    0.000    0.000 jsonutil.py:75(date_default)\n",
      "        1    0.000    0.000    0.000    0.000 poll.py:77(poll)\n",
      "        1    0.000    0.000    0.000    0.000 py3compat.py:12(no_code)\n",
      "    57773    0.073    0.000    0.340    0.000 re.py:143(search)\n",
      "        3    0.000    0.000    0.000    0.000 re.py:173(findall)\n",
      "    57776    0.133    0.000    0.133    0.000 re.py:230(_compile)\n",
      "        1    0.000    0.000    0.000    0.000 session.py:206(msg_header)\n",
      "        1    0.000    0.000    0.000    0.000 session.py:211(extract_header)\n",
      "        1    0.000    0.000    0.000    0.000 session.py:452(msg_id)\n",
      "        1    0.000    0.000    0.000    0.000 session.py:504(msg_header)\n",
      "        1    0.000    0.000    0.000    0.000 session.py:507(msg)\n",
      "        1    0.000    0.000    0.000    0.000 session.py:526(sign)\n",
      "        1    0.000    0.000    0.000    0.000 session.py:541(serialize)\n",
      "        1    0.000    0.000    0.001    0.001 session.py:600(send)\n",
      "        4    0.000    0.000    0.000    0.000 session.py:94(<lambda>)\n",
      "        1    0.000    0.000    0.000    0.000 socket.py:289(send_multipart)\n",
      "        1    0.000    0.000    0.000    0.000 threading.py:1143(currentThread)\n",
      "        1    0.000    0.000    0.000    0.000 threading.py:974(ident)\n",
      "       13    0.000    0.000    0.000    0.000 traitlets.py:420(__get__)\n",
      "        6    0.000    0.000    0.000    0.000 utf_8.py:15(decode)\n",
      "        1    0.000    0.000    0.000    0.000 uuid.py:103(__init__)\n",
      "        1    0.000    0.000    0.000    0.000 uuid.py:199(__str__)\n",
      "        1    0.000    0.000    0.000    0.000 uuid.py:582(uuid4)\n",
      "        6    0.000    0.000    0.000    0.000 {_codecs.utf_8_decode}\n",
      "        1    0.000    0.000    0.000    0.000 {built-in method now}\n",
      "    45677    1.164    0.000    1.193    0.000 {eval}\n",
      "        1    0.000    0.000    0.000    0.000 {getattr}\n",
      "        1    0.000    0.000    0.000    0.000 {hasattr}\n",
      "       32    0.000    0.000    0.000    0.000 {isinstance}\n",
      "       11    0.000    0.000    0.000    0.000 {len}\n",
      "        1    0.000    0.000    0.000    0.000 {locals}\n",
      "        1    0.000    0.000    0.000    0.000 {map}\n",
      "        1    0.000    0.000    0.000    0.000 {max}\n",
      "        3    0.000    0.000    0.000    0.000 {method 'append' of 'list' objects}\n",
      "        1    0.000    0.000    0.000    0.000 {method 'close' of '_io.StringIO' objects}\n",
      "        3    0.000    0.000    0.000    0.000 {method 'copy' of '_hashlib.HASH' objects}\n",
      "        1    0.000    0.000    0.000    0.000 {method 'copy' of 'dict' objects}\n",
      "        1    0.000    0.000    0.000    0.000 {method 'count' of 'list' objects}\n",
      "        6    0.000    0.000    0.000    0.000 {method 'decode' of 'str' objects}\n",
      "        1    0.000    0.000    0.000    0.000 {method 'digest' of '_hashlib.HASH' objects}\n",
      "        1    0.000    0.000    0.000    0.000 {method 'disable' of '_lsprof.Profiler' objects}\n",
      "        3    0.000    0.000    0.000    0.000 {method 'encode' of 'unicode' objects}\n",
      "        2    0.000    0.000    0.000    0.000 {method 'extend' of 'list' objects}\n",
      "        3    0.000    0.000    0.000    0.000 {method 'findall' of '_sre.SRE_Pattern' objects}\n",
      "        1    0.000    0.000    0.000    0.000 {method 'get' of 'dict' objects}\n",
      "        1    0.000    0.000    0.000    0.000 {method 'getvalue' of '_io.StringIO' objects}\n",
      "        2    0.000    0.000    0.000    0.000 {method 'group' of '_sre.SRE_Match' objects}\n",
      "        1    0.000    0.000    0.000    0.000 {method 'hexdigest' of '_hashlib.HASH' objects}\n",
      "        1    0.000    0.000    0.000    0.000 {method 'isoformat' of 'datetime.datetime' objects}\n",
      "    57780    0.027    0.000    0.027    0.000 {method 'join' of 'str' objects}\n",
      "    57773    0.133    0.000    0.133    0.000 {method 'search' of '_sre.SRE_Pattern' objects}\n",
      "        7    0.000    0.000    0.000    0.000 {method 'send' of 'zmq.backend.cython.socket.Socket' objects}\n",
      "        1    0.000    0.000    0.000    0.000 {method 'split' of 'str' objects}\n",
      "        4    0.000    0.000    0.000    0.000 {method 'strip' of 'str' objects}\n",
      "       28    0.000    0.000    0.000    0.000 {method 'sub' of '_sre.SRE_Pattern' objects}\n",
      "    57773    0.022    0.000    0.022    0.000 {method 'translate' of 'str' objects}\n",
      "        5    0.000    0.000    0.000    0.000 {method 'update' of '_hashlib.HASH' objects}\n",
      "        1    0.000    0.000    0.000    0.000 {method 'upper' of 'str' objects}\n",
      "        6    0.000    0.000    0.000    0.000 {method 'write' of '_io.StringIO' objects}\n",
      "        9    0.000    0.000    0.000    0.000 {posix.getpid}\n",
      "        1    0.000    0.000    0.000    0.000 {posix.urandom}\n",
      "        1    0.000    0.000    0.000    0.000 {range}\n",
      "    57773    0.063    0.000    0.063    0.000 {strop.maketrans}\n",
      "        1    0.000    0.000    0.000    0.000 {thread.get_ident}\n",
      "        6    0.000    0.000    0.000    0.000 {time.time}\n",
      "        1    0.000    0.000    0.000    0.000 {zmq.backend.cython._poll.zmq_poll}\n",
      "\n",
      "\n"
     ]
    }
   ],
   "source": [
    "import cProfile\n",
    "cProfile.run(\"test()\")"
   ]
  },
  {
   "cell_type": "markdown",
   "metadata": {},
   "source": [
    "From the profiling, we could see that 'valid' takes far more time than 'fill_in'. In order to speed the funciton of 'valid', we should compile formula into function instead of using 'eval' too many times. For example, compiling 'YOU == ME\\**2' into 'lambda Y,M,E,U,O: (U+10\\*O+100\\*Y) == (E+10*M)\\**2'."
   ]
  },
  {
   "cell_type": "code",
   "execution_count": 15,
   "metadata": {
    "collapsed": false
   },
   "outputs": [],
   "source": [
    "def faster_solve(formula):\n",
    "    \"\"\"Given a formula like 'ODD + ODD == EVEN', fill in digits to solve it.\n",
    "    Input formula is a string; output is a digit-filled-in string or None.\n",
    "    This version precompiles the formula; only one eval per formula.\"\"\"\n",
    "    f, letters = compile_formula(formula)\n",
    "    for digits in itertools.permutations(range(0,10), len(letters)):\n",
    "        try:\n",
    "            if f(*digits):\n",
    "                table = string.maketrans(letters, ''.join(map(str, digits)))\n",
    "                return formula.translate(table)\n",
    "        except:\n",
    "            print \"Oops: Something goes wrong!\"\n",
    "\n",
    "def compile_word(word):\n",
    "    if word.isupper():\n",
    "        terms = [(\"{}*{}\".format(10**i, d))\n",
    "                 for (i, d) in enumerate(word[::-1])]\n",
    "        return \"({})\".format(\"+\".join(terms))\n",
    "    else:\n",
    "        return word\n",
    "    \n",
    "def compile_formula(formula, verbose=False):\n",
    "    \"\"\"Compile formula into a function. Also return letters found, as a str, in same order as param of function.\n",
    "    For example, 'YOU == ME**2' returns (lambda Y,M,E,U,O: (U+10\\O+100*Y) == (E+10M)*2), 'YMEUO'\"\"\"\n",
    "    letters = ''.join(set(re.findall(r'[A-Z]', formula)))\n",
    "    parms = ', '.join(letters)\n",
    "    tokens = map(compile_word, re.split(r'([A-Z]+)', formula))\n",
    "    body = ' '.join(tokens)\n",
    "    f = \"lambda {}: {}\".format(parms, body)\n",
    "    if verbose: print f\n",
    "    return eval(f), letters"
   ]
  },
  {
   "cell_type": "code",
   "execution_count": 18,
   "metadata": {
    "collapsed": false
   },
   "outputs": [
    {
     "name": "stdout",
     "output_type": "stream",
     "text": [
      "655 + 655 == 1310\n",
      "3**2 + 4**2 == 5**2\n",
      "None\n"
     ]
    }
   ],
   "source": [
    "def test():\n",
    "    examples = \"\"\"ODD + ODD == EVEN\n",
    "                  A**2 + B**2 == C**2\n",
    "                  APPLE + PEN == APPLEPEN\"\"\"\n",
    "    for example in examples.strip().split(\"\\n\"):\n",
    "        print faster_solve(example.strip())\n",
    "\n",
    "test()"
   ]
  },
  {
   "cell_type": "code",
   "execution_count": 19,
   "metadata": {
    "collapsed": false
   },
   "outputs": [
    {
     "name": "stdout",
     "output_type": "stream",
     "text": [
      "655 + 655 == 1310\n",
      "3**2 + 4**2 == 5**2\n",
      "None\n",
      "         30667 function calls in 0.071 seconds\n",
      "\n",
      "   Ordered by: standard name\n",
      "\n",
      "   ncalls  tottime  percall  cumtime  percall filename:lineno(function)\n",
      "        3    0.019    0.006    0.069    0.023 <ipython-input-15-0cd8d071958a>:1(faster_solve)\n",
      "       21    0.000    0.000    0.000    0.000 <ipython-input-15-0cd8d071958a>:14(compile_word)\n",
      "        3    0.000    0.000    0.001    0.000 <ipython-input-15-0cd8d071958a>:22(compile_formula)\n",
      "        1    0.000    0.000    0.071    0.071 <ipython-input-18-cf2b40cb09d4>:1(test)\n",
      "    30240    0.050    0.000    0.050    0.000 <string>:1(<lambda>)\n",
      "        1    0.000    0.000    0.000    0.000 <string>:1(<module>)\n",
      "        4    0.000    0.000    0.001    0.000 __init__.py:193(dumps)\n",
      "        1    0.000    0.000    0.000    0.000 attrsettr.py:35(__getattr__)\n",
      "        4    0.000    0.000    0.000    0.000 encoder.py:101(__init__)\n",
      "        4    0.000    0.000    0.001    0.000 encoder.py:186(encode)\n",
      "        4    0.000    0.000    0.001    0.000 encoder.py:212(iterencode)\n",
      "       28    0.000    0.000    0.001    0.000 encoder.py:33(encode_basestring)\n",
      "        2    0.000    0.000    0.000    0.000 encoder.py:37(replace)\n",
      "        1    0.000    0.000    0.000    0.000 hmac.py:100(_current)\n",
      "        1    0.000    0.000    0.000    0.000 hmac.py:119(hexdigest)\n",
      "        1    0.000    0.000    0.000    0.000 hmac.py:30(__init__)\n",
      "        4    0.000    0.000    0.000    0.000 hmac.py:83(update)\n",
      "        1    0.000    0.000    0.000    0.000 hmac.py:88(copy)\n",
      "        7    0.000    0.000    0.000    0.000 iostream.py:102(_check_mp_mode)\n",
      "        1    0.000    0.000    0.000    0.000 iostream.py:123(_flush_from_subprocesses)\n",
      "        1    0.000    0.000    0.002    0.002 iostream.py:151(flush)\n",
      "        6    0.000    0.000    0.002    0.000 iostream.py:207(write)\n",
      "        1    0.000    0.000    0.000    0.000 iostream.py:238(_flush_buffer)\n",
      "        1    0.000    0.000    0.000    0.000 iostream.py:247(_new_buffer)\n",
      "        8    0.000    0.000    0.000    0.000 iostream.py:93(_is_master_process)\n",
      "        1    0.000    0.000    0.000    0.000 iostream.py:96(_is_master_thread)\n",
      "        4    0.000    0.000    0.001    0.000 jsonapi.py:31(dumps)\n",
      "        1    0.000    0.000    0.000    0.000 jsonutil.py:75(date_default)\n",
      "        1    0.000    0.000    0.000    0.000 poll.py:77(poll)\n",
      "        1    0.000    0.000    0.000    0.000 py3compat.py:12(no_code)\n",
      "        3    0.000    0.000    0.000    0.000 re.py:168(split)\n",
      "        3    0.000    0.000    0.000    0.000 re.py:173(findall)\n",
      "        6    0.000    0.000    0.000    0.000 re.py:230(_compile)\n",
      "        1    0.000    0.000    0.000    0.000 session.py:206(msg_header)\n",
      "        1    0.000    0.000    0.000    0.000 session.py:211(extract_header)\n",
      "        1    0.000    0.000    0.000    0.000 session.py:452(msg_id)\n",
      "        1    0.000    0.000    0.000    0.000 session.py:504(msg_header)\n",
      "        1    0.000    0.000    0.000    0.000 session.py:507(msg)\n",
      "        1    0.000    0.000    0.000    0.000 session.py:526(sign)\n",
      "        1    0.000    0.000    0.001    0.001 session.py:541(serialize)\n",
      "        1    0.000    0.000    0.001    0.001 session.py:600(send)\n",
      "        4    0.000    0.000    0.001    0.000 session.py:94(<lambda>)\n",
      "        1    0.000    0.000    0.000    0.000 socket.py:289(send_multipart)\n",
      "        1    0.000    0.000    0.000    0.000 threading.py:1143(currentThread)\n",
      "        1    0.000    0.000    0.000    0.000 threading.py:974(ident)\n",
      "       13    0.000    0.000    0.000    0.000 traitlets.py:420(__get__)\n",
      "        6    0.000    0.000    0.000    0.000 utf_8.py:15(decode)\n",
      "        1    0.000    0.000    0.000    0.000 uuid.py:103(__init__)\n",
      "        1    0.000    0.000    0.000    0.000 uuid.py:199(__str__)\n",
      "        1    0.000    0.000    0.000    0.000 uuid.py:582(uuid4)\n",
      "        6    0.000    0.000    0.000    0.000 {_codecs.utf_8_decode}\n",
      "        1    0.000    0.000    0.000    0.000 {built-in method now}\n",
      "        3    0.000    0.000    0.000    0.000 {eval}\n",
      "        1    0.000    0.000    0.000    0.000 {getattr}\n",
      "        1    0.000    0.000    0.000    0.000 {hasattr}\n",
      "       32    0.000    0.000    0.000    0.000 {isinstance}\n",
      "       11    0.000    0.000    0.000    0.000 {len}\n",
      "        1    0.000    0.000    0.000    0.000 {locals}\n",
      "        6    0.000    0.000    0.000    0.000 {map}\n",
      "        1    0.000    0.000    0.000    0.000 {max}\n",
      "        3    0.000    0.000    0.000    0.000 {method 'append' of 'list' objects}\n",
      "        1    0.000    0.000    0.000    0.000 {method 'close' of '_io.StringIO' objects}\n",
      "        3    0.000    0.000    0.000    0.000 {method 'copy' of '_hashlib.HASH' objects}\n",
      "        1    0.000    0.000    0.000    0.000 {method 'copy' of 'dict' objects}\n",
      "        1    0.000    0.000    0.000    0.000 {method 'count' of 'list' objects}\n",
      "        6    0.000    0.000    0.000    0.000 {method 'decode' of 'str' objects}\n",
      "        1    0.000    0.000    0.000    0.000 {method 'digest' of '_hashlib.HASH' objects}\n",
      "        1    0.000    0.000    0.000    0.000 {method 'disable' of '_lsprof.Profiler' objects}\n",
      "        3    0.000    0.000    0.000    0.000 {method 'encode' of 'unicode' objects}\n",
      "        2    0.000    0.000    0.000    0.000 {method 'extend' of 'list' objects}\n",
      "        3    0.000    0.000    0.000    0.000 {method 'findall' of '_sre.SRE_Pattern' objects}\n",
      "       41    0.000    0.000    0.000    0.000 {method 'format' of 'str' objects}\n",
      "        1    0.000    0.000    0.000    0.000 {method 'get' of 'dict' objects}\n",
      "        1    0.000    0.000    0.000    0.000 {method 'getvalue' of '_io.StringIO' objects}\n",
      "        2    0.000    0.000    0.000    0.000 {method 'group' of '_sre.SRE_Match' objects}\n",
      "        1    0.000    0.000    0.000    0.000 {method 'hexdigest' of '_hashlib.HASH' objects}\n",
      "        1    0.000    0.000    0.000    0.000 {method 'isoformat' of 'datetime.datetime' objects}\n",
      "       21    0.000    0.000    0.000    0.000 {method 'isupper' of 'str' objects}\n",
      "       24    0.000    0.000    0.000    0.000 {method 'join' of 'str' objects}\n",
      "        7    0.000    0.000    0.000    0.000 {method 'send' of 'zmq.backend.cython.socket.Socket' objects}\n",
      "        3    0.000    0.000    0.000    0.000 {method 'split' of '_sre.SRE_Pattern' objects}\n",
      "        1    0.000    0.000    0.000    0.000 {method 'split' of 'str' objects}\n",
      "        4    0.000    0.000    0.000    0.000 {method 'strip' of 'str' objects}\n",
      "       28    0.001    0.000    0.001    0.000 {method 'sub' of '_sre.SRE_Pattern' objects}\n",
      "        2    0.000    0.000    0.000    0.000 {method 'translate' of 'str' objects}\n",
      "        5    0.000    0.000    0.000    0.000 {method 'update' of '_hashlib.HASH' objects}\n",
      "        1    0.000    0.000    0.000    0.000 {method 'upper' of 'str' objects}\n",
      "        6    0.000    0.000    0.000    0.000 {method 'write' of '_io.StringIO' objects}\n",
      "        9    0.000    0.000    0.000    0.000 {posix.getpid}\n",
      "        1    0.000    0.000    0.000    0.000 {posix.urandom}\n",
      "        4    0.000    0.000    0.000    0.000 {range}\n",
      "        2    0.000    0.000    0.000    0.000 {strop.maketrans}\n",
      "        1    0.000    0.000    0.000    0.000 {thread.get_ident}\n",
      "        6    0.000    0.000    0.000    0.000 {time.time}\n",
      "        1    0.000    0.000    0.000    0.000 {zmq.backend.cython._poll.zmq_poll}\n",
      "\n",
      "\n"
     ]
    }
   ],
   "source": [
    "import cProfile\n",
    "cProfile.run(\"test()\")"
   ]
  },
  {
   "cell_type": "code",
   "execution_count": 21,
   "metadata": {
    "collapsed": false
   },
   "outputs": [],
   "source": [
    "g=(x**2 for x in range(5))"
   ]
  },
  {
   "cell_type": "code",
   "execution_count": 26,
   "metadata": {
    "collapsed": false
   },
   "outputs": [
    {
     "data": {
      "text/plain": [
       "9"
      ]
     },
     "execution_count": 26,
     "metadata": {},
     "output_type": "execute_result"
    }
   ],
   "source": [
    "next(g)"
   ]
  },
  {
   "cell_type": "code",
   "execution_count": null,
   "metadata": {
    "collapsed": true
   },
   "outputs": [],
   "source": []
  }
 ],
 "metadata": {
  "kernelspec": {
   "display_name": "Python 2",
   "language": "python",
   "name": "python2"
  },
  "language_info": {
   "codemirror_mode": {
    "name": "ipython",
    "version": 2
   },
   "file_extension": ".py",
   "mimetype": "text/x-python",
   "name": "python",
   "nbconvert_exporter": "python",
   "pygments_lexer": "ipython2",
   "version": "2.7.11"
  }
 },
 "nbformat": 4,
 "nbformat_minor": 0
}
