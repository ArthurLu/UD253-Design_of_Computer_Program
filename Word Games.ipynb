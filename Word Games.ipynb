{
 "cells": [
  {
   "cell_type": "markdown",
   "metadata": {
    "collapsed": true
   },
   "source": [
    "# Problem 1"
   ]
  },
  {
   "cell_type": "code",
   "execution_count": 5,
   "metadata": {
    "collapsed": false
   },
   "outputs": [],
   "source": [
    "def anagrams(phrase, shortest=2):\n",
    "    \"\"\"Return a set of phrases with words from WORDS that form anagram\n",
    "    of phrase. Spaces can be anywhere in phrase or anagram. All words \n",
    "    have length >= shortest. Phrases in answer must have words in \n",
    "    lexicographic order (not all permutations).\"\"\"\n",
    "    results = []\n",
    "    phrase = phrase.replace(' ', '')\n",
    "    words = find_words(phrase)\n",
    "    def _check(w, p):\n",
    "        return len(w) + len(removed(p, w)) == len(p)\n",
    "    \n",
    "    def _helper(parents, _words, _phrase):\n",
    "        if _phrase == '':\n",
    "            results.append(' '.join(sorted(parents)))\n",
    "        elif _words:\n",
    "            word = _words.pop()\n",
    "            if len(word) >= shortest and _check(word, _phrase):\n",
    "                _helper(parents+[word], set(_words), removed(_phrase, word))\n",
    "            _helper(parents, _words, _phrase)\n",
    "    _helper([], words, phrase)\n",
    "    return set(results)\n",
    "# ------------\n",
    "# Helpful functions\n",
    "# \n",
    "# You may find the following functions useful. These functions\n",
    "# are identical to those we defined in lecture. \n",
    "\n",
    "def removed(letters, remove):\n",
    "    \"Return a str of letters, but with each letter in remove removed once.\"\n",
    "    for L in remove:\n",
    "        letters = letters.replace(L, '', 1)\n",
    "    return letters\n",
    "\n",
    "def find_words(letters):\n",
    "    return extend_prefix('', letters, set())\n",
    "\n",
    "def extend_prefix(pre, letters, results):\n",
    "    if pre in WORDS: results.add(pre)\n",
    "    if pre in PREFIXES:\n",
    "        for L in letters:\n",
    "            extend_prefix(pre+L, letters.replace(L, '', 1), results)\n",
    "    return results\n",
    "\n",
    "def prefixes(word):\n",
    "    \"A list of the initial sequences of a word, not including the complete word.\"\n",
    "    return [word[:i] for i in range(len(word))]\n",
    "\n",
    "def readwordlist(filename):\n",
    "    \"Return a pair of sets: all the words in a file, and all the prefixes. (Uppercased.)\"\n",
    "    wordset = set(open(filename).read().upper().split())\n",
    "    prefixset = set(p for word in wordset for p in prefixes(word))\n",
    "    return wordset, prefixset\n",
    "\n",
    "WORDS, PREFIXES = readwordlist('words4k.txt')\n",
    "\n",
    "# ------------\n",
    "# Testing\n",
    "# \n",
    "# Run the function test() to see if your function behaves as expected.\n",
    "\n",
    "def test():\n",
    "    assert 'DOCTOR WHO' in anagrams('TORCHWOOD')\n",
    "    assert 'BOOK SEC TRY' in anagrams('OCTOBER SKY')\n",
    "    assert 'SEE THEY' in anagrams('THE EYES')\n",
    "    assert 'LIVES' in anagrams('ELVIS')\n",
    "    assert anagrams('PYTHONIC') == set([\n",
    "        'NTH PIC YO', 'NTH OY PIC', 'ON PIC THY', 'NO PIC THY', 'COY IN PHT',\n",
    "        'ICY NO PHT', 'ICY ON PHT', 'ICY NTH OP', 'COP IN THY', 'HYP ON TIC',\n",
    "        'CON PI THY', 'HYP NO TIC', 'COY NTH PI', 'CON HYP IT', 'COT HYP IN',\n",
    "        'CON HYP TI'])\n",
    "    return 'tests pass'\n",
    "\n",
    "print test()"
   ]
  },
  {
   "cell_type": "markdown",
   "metadata": {},
   "source": [
    "# Problem 2"
   ]
  },
  {
   "cell_type": "code",
   "execution_count": null,
   "metadata": {
    "collapsed": true
   },
   "outputs": [],
   "source": []
  }
 ],
 "metadata": {
  "kernelspec": {
   "display_name": "Python 2",
   "language": "python",
   "name": "python2"
  },
  "language_info": {
   "codemirror_mode": {
    "name": "ipython",
    "version": 2
   },
   "file_extension": ".py",
   "mimetype": "text/x-python",
   "name": "python",
   "nbconvert_exporter": "python",
   "pygments_lexer": "ipython2",
   "version": "2.7.11"
  }
 },
 "nbformat": 4,
 "nbformat_minor": 1
}
