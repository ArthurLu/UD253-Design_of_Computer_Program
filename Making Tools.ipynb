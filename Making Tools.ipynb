{
 "cells": [
  {
   "cell_type": "markdown",
   "metadata": {},
   "source": [
    "# Regular Expression"
   ]
  },
  {
   "cell_type": "code",
   "execution_count": 1,
   "metadata": {
    "collapsed": false
   },
   "outputs": [],
   "source": [
    "def search(pattern, text):\n",
    "    \"\"\"Return true if pattern appears anywhere in text.\"\"\"\n",
    "    if pattern[0] == \"^\":\n",
    "        return match(pattern[1:], text)\n",
    "    else:\n",
    "        return match(\".*\"+pattern, text)"
   ]
  },
  {
   "cell_type": "code",
   "execution_count": 2,
   "metadata": {
    "collapsed": true
   },
   "outputs": [],
   "source": [
    "def match1(p, text):\n",
    "    \"\"\"Return true if first character of text matches pattern character p.\"\"\"\n",
    "    if not text: return False\n",
    "    return p == '.' or p == text[0]"
   ]
  },
  {
   "cell_type": "code",
   "execution_count": 6,
   "metadata": {
    "collapsed": true
   },
   "outputs": [],
   "source": [
    "def match_star(p, pattern, text):\n",
    "    \"\"\"Return true if any number of char p, followed by pattern, matching text.\"\"\"\n",
    "    return (match1(p, text) and match_star(p, pattern, text[1:])) or match(pattern, text)"
   ]
  },
  {
   "cell_type": "code",
   "execution_count": 5,
   "metadata": {
    "collapsed": false
   },
   "outputs": [],
   "source": [
    "def match(pattern, text):\n",
    "    \"\"\"Return True if pattern appears at the start of text.\"\"\"\n",
    "    if pattern == \"\":\n",
    "        return True\n",
    "    elif pattern == \"$\":\n",
    "        return (text == \"\")\n",
    "    elif len(pattern) > 1 and pattern[1] in \"*?\":\n",
    "        p, op, pat = pattern[0], pattern[1], pattern[2:]\n",
    "        if op == \"*\":\n",
    "            return match_star(p, pat, text)\n",
    "        elif op == \"?\":\n",
    "            if match1(p, text) and match(pat, text[1:]):\n",
    "                return True\n",
    "            else:\n",
    "                return match(pat, text)            \n",
    "    else:\n",
    "        return match1(pattern[0], text) and match(pattern[1:], text[1:])"
   ]
  },
  {
   "cell_type": "code",
   "execution_count": 10,
   "metadata": {
    "collapsed": false
   },
   "outputs": [
    {
     "name": "stdout",
     "output_type": "stream",
     "text": [
      "All test pass!\n"
     ]
    }
   ],
   "source": [
    "def test():\n",
    "    assert search('baa*!', 'Sheep said baaaa!')\n",
    "    assert search('baa*!', 'Sheep said baaaa humbug') == False\n",
    "    assert match('baa*!', 'Sheep said baaaa!') == False\n",
    "    print \"All test pass!\"\n",
    "test()"
   ]
  },
  {
   "cell_type": "markdown",
   "metadata": {
    "collapsed": true
   },
   "source": [
    "# Language Processor"
   ]
  },
  {
   "cell_type": "code",
   "execution_count": null,
   "metadata": {
    "collapsed": true
   },
   "outputs": [],
   "source": [
    "def lit(string):  return ('lit', string)\n",
    "def seq(x, y):    return ('seq', x, y)\n",
    "def alt(x, y):    return ('alt', x, y)\n",
    "def star(x):      return ('star', x)\n",
    "def plus(x):      return ('seq', x, star(x))\n",
    "def opt(x):       return alt(lit(''), x) #opt(x) means that x is optional\n",
    "def oneof(chars): return ('oneof', tuple(chars))\n",
    "dot = ('dot',)\n",
    "eol = ('eol',)\n",
    "\n",
    "def test():\n",
    "    assert lit('abc')         == ('lit', 'abc')\n",
    "    assert seq(('lit', 'a'), \n",
    "               ('lit', 'b'))  == ('seq', ('lit', 'a'), ('lit', 'b'))\n",
    "    assert alt(('lit', 'a'), \n",
    "               ('lit', 'b'))  == ('alt', ('lit', 'a'), ('lit', 'b'))\n",
    "    assert star(('lit', 'a')) == ('star', ('lit', 'a'))\n",
    "    assert plus(('lit', 'c')) == ('seq', ('lit', 'c'), \n",
    "                                  ('star', ('lit', 'c')))\n",
    "    assert opt(('lit', 'x'))  == ('alt', ('lit', ''), ('lit', 'x'))\n",
    "    assert oneof('abc')       == ('oneof', ('a', 'b', 'c'))\n",
    "    return 'tests pass'\n",
    "\n",
    "print test()"
   ]
  },
  {
   "cell_type": "code",
   "execution_count": null,
   "metadata": {
    "collapsed": true
   },
   "outputs": [],
   "source": [
    "def matchset(pattern, text):\n",
    "    \"Match pattern at start of text; return a set of remainders of text.\"\n",
    "    op, x, y = components(pattern)\n",
    "    if 'lit' == op:\n",
    "        return set([text[len(x):]]) if text.startswith(x) else null\n",
    "    elif 'seq' == op:\n",
    "        return set(t2 for t1 in matchset(x, text) for t2 in matchset(y, t1))\n",
    "    elif 'alt' == op:\n",
    "        return matchset(x, text) | matchset(y, text)\n",
    "    elif 'dot' == op:\n",
    "        return set([text[1:]]) if text else null\n",
    "    elif 'oneof' == op:\n",
    "        return set([text[1:]]) if text.startswith(x) else null\n",
    "    elif 'eol' == op:\n",
    "        return set(['']) if text == '' else null\n",
    "    elif 'star' == op:\n",
    "        return (set([text]) |\n",
    "                set(t2 for t1 in matchset(x, text)\n",
    "                    for t2 in matchset(pattern, t1) if t1 != text))\n",
    "    else:\n",
    "        raise ValueError('unknown pattern: %s' % pattern)\n",
    "        \n",
    "null = frozenset()\n",
    "\n",
    "def components(pattern):\n",
    "    \"Return the op, x, and y arguments; x and y are None if missing.\"\n",
    "    x = pattern[1] if len(pattern) > 1 else None\n",
    "    y = pattern[2] if len(pattern) > 2 else None\n",
    "    return pattern[0], x, y\n",
    "   \n",
    "def test():\n",
    "    assert matchset(('lit', 'abc'), 'abcdef')            == set(['def'])\n",
    "    assert matchset(('seq', ('lit', 'hi '),\n",
    "                     ('lit', 'there ')), \n",
    "                   'hi there nice to meet you')          == set(['nice to meet you'])\n",
    "    assert matchset(('alt', ('lit', 'dog'), \n",
    "                    ('lit', 'cat')), 'dog and cat')      == set([' and cat'])\n",
    "    assert matchset(('dot',), 'am i missing something?') == set(['m i missing something?'])\n",
    "    assert matchset(('oneof', 'a'), 'aabc123')           == set(['abc123'])\n",
    "    assert matchset(('eol',),'')                         == set([''])\n",
    "    assert matchset(('eol',),'not end of line')          == frozenset([])\n",
    "    assert matchset(('star', ('lit', 'hey')), 'heyhey!') == set(['!', 'heyhey!', 'hey!'])\n",
    "    \n",
    "    return 'tests pass'\n",
    "\n",
    "print test()"
   ]
  },
  {
   "cell_type": "code",
   "execution_count": null,
   "metadata": {
    "collapsed": false
   },
   "outputs": [],
   "source": [
    "def search(pattern, text):\n",
    "    \"Match pattern anywhere in text; return longest earliest match or None.\"\n",
    "    for i in range(len(text)):\n",
    "        m = match(pattern, text[i:])\n",
    "        if m is not None:\n",
    "            return m\n",
    "        \n",
    "def match(pattern, text):\n",
    "    \"Match pattern against start of text; return longest match found or None.\"\n",
    "    remainders = matchset(pattern, text)\n",
    "    if remainders:\n",
    "        shortest = min(remainders, key=len)\n",
    "        return text[:len(text)-len(shortest)]\n",
    "    \n",
    "def test():\n",
    "    assert match(('star', ('lit', 'a')),'aaabcd') == 'aaa'\n",
    "    assert match(('alt', ('lit', 'b'), ('lit', 'c')), 'ab') == None\n",
    "    assert match(('alt', ('lit', 'b'), ('lit', 'a')), 'ab') == 'a'\n",
    "    assert match(seq(star(lit('a')), star(lit('b'))), 'abbv') == 'abb'\n",
    "    assert search(('alt', ('lit', 'b'), ('lit', 'c')), 'ab') == 'b'\n",
    "    return 'tests pass'\n",
    "\n",
    "print test()"
   ]
  },
  {
   "cell_type": "code",
   "execution_count": 13,
   "metadata": {
    "collapsed": false
   },
   "outputs": [
    {
     "name": "stdout",
     "output_type": "stream",
     "text": [
      "tests pass\n"
     ]
    }
   ],
   "source": [
    "def n_ary(f):\n",
    "    \"\"\"Given binary function f(x, y), return an n_ary function such\n",
    "    that f(x, y, z) = f(x, f(y,z)), etc. Also allow f(x) = x.\"\"\"\n",
    "    def n_ary_f(x, *args):\n",
    "        return x if not args else f(x, n_ary_f(*args))\n",
    "    return n_ary_f\n",
    "\n",
    "def test():\n",
    "    f = lambda x, y: ('seq', x, y)\n",
    "    g = n_ary(f)\n",
    "    assert g(2,3,4) == ('seq', 2, ('seq', 3, 4))\n",
    "    assert g(2) == 2\n",
    "    assert g(2,3) == ('seq', 2, 3)\n",
    "    return \"tests pass\"\n",
    "print test()"
   ]
  },
  {
   "cell_type": "markdown",
   "metadata": {},
   "source": [
    "# Decorator"
   ]
  },
  {
   "cell_type": "code",
   "execution_count": 1,
   "metadata": {
    "collapsed": false
   },
   "outputs": [
    {
     "name": "stdout",
     "output_type": "stream",
     "text": [
      "Help on function seq in module __main__:\n",
      "\n",
      "seq(x, *args)\n",
      "\n"
     ]
    }
   ],
   "source": [
    "from functools import update_wrapper\n",
    "\n",
    "def n_ary(f):\n",
    "    \"\"\"Given binary function f(x, y), return an n_ary function such\n",
    "    that f(x, y, z) = f(x, f(y,z)), etc. Also allow f(x) = x.\"\"\"\n",
    "    def n_ary_f(x, *args):\n",
    "        return x if not args else f(x, n_ary_f(*args))\n",
    "    update_wrapper(n_ary_f, f) # update the function name and doc\n",
    "    return n_ary_f\n",
    "\n",
    "@n_ary\n",
    "def seq(x, y): return ('seq', x, y)\n",
    "\n",
    "help(seq)"
   ]
  },
  {
   "cell_type": "code",
   "execution_count": 27,
   "metadata": {
    "collapsed": false
   },
   "outputs": [
    {
     "name": "stdout",
     "output_type": "stream",
     "text": [
      "Help on function seq in module __main__:\n",
      "\n",
      "seq(x, *args)\n",
      "\n",
      "Help on function n_ary in module __main__:\n",
      "\n",
      "n_ary(fn)\n",
      "    Given binary function f(x, y), return an n_ary function such\n",
      "    that f(x, y, z) = f(x, f(y,z)), etc. Also allow f(x) = x.\n",
      "\n",
      "('seq', 2, ('seq', 3, 4))\n"
     ]
    }
   ],
   "source": [
    "def decorator(d):\n",
    "    def _d(fn):\n",
    "        return update_wrapper(d(fn), fn)\n",
    "    return update_wrapper(_d, d)\n",
    "\n",
    "@decorator\n",
    "def n_ary(f):\n",
    "    \"\"\"Given binary function f(x, y), return an n_ary function such\n",
    "    that f(x, y, z) = f(x, f(y,z)), etc. Also allow f(x) = x.\"\"\"\n",
    "    def n_ary_f(x, *args):\n",
    "        return x if not args else f(x, n_ary_f(*args))\n",
    "    return n_ary_f\n",
    "\n",
    "@n_ary\n",
    "def seq(x, y): return ('seq', x, y)\n",
    "\n",
    "help(seq)\n",
    "help(n_ary)\n",
    "\n",
    "print seq(2,3,4)"
   ]
  },
  {
   "cell_type": "code",
   "execution_count": null,
   "metadata": {
    "collapsed": true
   },
   "outputs": [],
   "source": []
  }
 ],
 "metadata": {
  "kernelspec": {
   "display_name": "Python 2",
   "language": "python",
   "name": "python2"
  },
  "language_info": {
   "codemirror_mode": {
    "name": "ipython",
    "version": 2
   },
   "file_extension": ".py",
   "mimetype": "text/x-python",
   "name": "python",
   "nbconvert_exporter": "python",
   "pygments_lexer": "ipython2",
   "version": "2.7.11"
  }
 },
 "nbformat": 4,
 "nbformat_minor": 0
}
