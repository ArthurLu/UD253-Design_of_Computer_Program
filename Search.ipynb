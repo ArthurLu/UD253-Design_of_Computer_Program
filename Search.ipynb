{
 "cells": [
  {
   "cell_type": "markdown",
   "metadata": {},
   "source": [
    "# Water Pouring"
   ]
  },
  {
   "cell_type": "code",
   "execution_count": 28,
   "metadata": {
    "collapsed": false
   },
   "outputs": [
    {
     "name": "stdout",
     "output_type": "stream",
     "text": [
      "{(0, 9): 'fill Y', (0, 0): 'empty Y', (4, 0): 'fill X'}\n",
      "[(0, 0), 'fill Y', (0, 9), 'X<-Y', (4, 5), 'empty X', (0, 5), 'X<-Y', (4, 1), 'empty X', (0, 1), 'X<-Y', (1, 0), 'fill Y', (1, 9), 'X<-Y', (4, 6)]\n"
     ]
    }
   ],
   "source": [
    "def pour_solution(X, Y, goal, start=(0, 0)):\n",
    "    \"\"\"X and Y are the capacity of glasses; (x, y) is current fill levels\n",
    "    and represents a state. The goal is a level that can be in either glass.\n",
    "    Start at start state and follow successors until we reach the goal.\n",
    "    Keep track of frontier and previously explored; fail when no frontier\"\"\"\n",
    "    \n",
    "    if goal in start:\n",
    "        return [start]\n",
    "    explored = set() # set of states we have visited\n",
    "    frontier = [[start]] # ordered list of paths we have blazed\n",
    "    while frontier:\n",
    "        path = frontier.pop(0)\n",
    "        (x, y) = path[-1] # Last state in the first path of the frontier\n",
    "        for (state, action) in successors(x, y, X, Y).items():\n",
    "            if state not in explored:\n",
    "                explored.add(state)\n",
    "                path2 = path + [action, state]\n",
    "                if goal in state:\n",
    "                    return path2\n",
    "                else:\n",
    "                    frontier.append(path2)\n",
    "    return Fail\n",
    "\n",
    "Fail = []\n",
    "\n",
    "def successors(x, y, X, Y):\n",
    "    \"\"\"Return a dict of {state: action} pairs describing what can be reached from the (x, y) state, and how.\"\"\"\n",
    "    assert x <= X and y <= Y ## (x, y) is glass levels; X and Y are glass sizes\n",
    "    return {((0, y+x) if x+y<=Y else (x-(Y-y), y+(Y-y))): \"X->Y\",\n",
    "            ((x+y, 0) if x+y<=X else (x+(X-x), y-(X-x))): \"X<-Y\",\n",
    "            (X, y): \"fill X\", (x, Y): \"fill Y\",\n",
    "            (0, y): \"empty X\", (x, 0): \"empty Y\"}\n",
    "\n",
    "print successors(0,0,4,9)\n",
    "print pour_solution(4,9,6)"
   ]
  },
  {
   "cell_type": "code",
   "execution_count": 36,
   "metadata": {
    "collapsed": false
   },
   "outputs": [
    {
     "name": "stdout",
     "output_type": "stream",
     "text": [
      "TestResults(failed=0, attempted=4)\n"
     ]
    }
   ],
   "source": [
    "import doctest\n",
    "from pprint import pprint as _\n",
    "\n",
    "class Test: \"\"\"\n",
    ">>> _(successors(0, 0, 4, 9))\n",
    "{(0, 0): 'empty Y', (0, 9): 'fill Y', (4, 0): 'fill X'}\n",
    "\n",
    ">>> _(successors(3, 5, 4, 9))\n",
    "{(0, 5): 'empty X',\n",
    " (0, 8): 'X->Y',\n",
    " (3, 0): 'empty Y',\n",
    " (3, 9): 'fill Y',\n",
    " (4, 4): 'X<-Y',\n",
    " (4, 5): 'fill X'}\n",
    "\n",
    ">>> _(successors(3, 7, 4, 9))\n",
    "{(0, 7): 'empty X',\n",
    " (1, 9): 'X->Y',\n",
    " (3, 0): 'empty Y',\n",
    " (3, 9): 'fill Y',\n",
    " (4, 6): 'X<-Y',\n",
    " (4, 7): 'fill X'}\n",
    " \n",
    ">>> pour_solution(4, 9, 6)\n",
    "[(0, 0), 'fill Y', (0, 9), 'X<-Y', (4, 5), 'empty X', (0, 5), 'X<-Y', (4, 1), 'empty X', (0, 1), \\\n",
    "'X<-Y', (1, 0), 'fill Y', (1, 9), 'X<-Y', (4, 6)]\n",
    "\"\"\"\n",
    "\n",
    "print doctest.testmod()"
   ]
  },
  {
   "cell_type": "code",
   "execution_count": null,
   "metadata": {
    "collapsed": true
   },
   "outputs": [],
   "source": []
  }
 ],
 "metadata": {
  "kernelspec": {
   "display_name": "Python 2",
   "language": "python",
   "name": "python2"
  },
  "language_info": {
   "codemirror_mode": {
    "name": "ipython",
    "version": 2
   },
   "file_extension": ".py",
   "mimetype": "text/x-python",
   "name": "python",
   "nbconvert_exporter": "python",
   "pygments_lexer": "ipython2",
   "version": "2.7.11"
  }
 },
 "nbformat": 4,
 "nbformat_minor": 0
}
