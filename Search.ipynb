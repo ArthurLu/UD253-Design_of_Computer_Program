{
 "cells": [
  {
   "cell_type": "markdown",
   "metadata": {},
   "source": [
    "# Water Pouring"
   ]
  },
  {
   "cell_type": "code",
   "execution_count": 28,
   "metadata": {
    "collapsed": false
   },
   "outputs": [
    {
     "name": "stdout",
     "output_type": "stream",
     "text": [
      "{(0, 9): 'fill Y', (0, 0): 'empty Y', (4, 0): 'fill X'}\n",
      "[(0, 0), 'fill Y', (0, 9), 'X<-Y', (4, 5), 'empty X', (0, 5), 'X<-Y', (4, 1), 'empty X', (0, 1), 'X<-Y', (1, 0), 'fill Y', (1, 9), 'X<-Y', (4, 6)]\n"
     ]
    }
   ],
   "source": [
    "def pour_solution(X, Y, goal, start=(0, 0)):\n",
    "    \"\"\"X and Y are the capacity of glasses; (x, y) is current fill levels\n",
    "    and represents a state. The goal is a level that can be in either glass.\n",
    "    Start at start state and follow successors until we reach the goal.\n",
    "    Keep track of frontier and previously explored; fail when no frontier\"\"\"\n",
    "    \n",
    "    if goal in start:\n",
    "        return [start]\n",
    "    explored = set() # set of states we have visited\n",
    "    frontier = [[start]] # ordered list of paths we have blazed\n",
    "    while frontier:\n",
    "        path = frontier.pop(0)\n",
    "        (x, y) = path[-1] # Last state in the first path of the frontier\n",
    "        for (state, action) in successors(x, y, X, Y).items():\n",
    "            if state not in explored:\n",
    "                explored.add(state)\n",
    "                path2 = path + [action, state]\n",
    "                if goal in state:\n",
    "                    return path2\n",
    "                else:\n",
    "                    frontier.append(path2)\n",
    "    return Fail\n",
    "\n",
    "Fail = []\n",
    "\n",
    "def successors(x, y, X, Y):\n",
    "    \"\"\"Return a dict of {state: action} pairs describing what can be reached from the (x, y) state, and how.\"\"\"\n",
    "    assert x <= X and y <= Y ## (x, y) is glass levels; X and Y are glass sizes\n",
    "    return {((0, y+x) if x+y<=Y else (x-(Y-y), y+(Y-y))): \"X->Y\",\n",
    "            ((x+y, 0) if x+y<=X else (x+(X-x), y-(X-x))): \"X<-Y\",\n",
    "            (X, y): \"fill X\", (x, Y): \"fill Y\",\n",
    "            (0, y): \"empty X\", (x, 0): \"empty Y\"}\n",
    "\n",
    "print successors(0,0,4,9)\n",
    "print pour_solution(4,9,6)"
   ]
  },
  {
   "cell_type": "code",
   "execution_count": 36,
   "metadata": {
    "collapsed": false
   },
   "outputs": [
    {
     "name": "stdout",
     "output_type": "stream",
     "text": [
      "TestResults(failed=0, attempted=4)\n"
     ]
    }
   ],
   "source": [
    "import doctest\n",
    "from pprint import pprint as _\n",
    "\n",
    "class Test: \"\"\"\n",
    ">>> _(successors(0, 0, 4, 9))\n",
    "{(0, 0): 'empty Y', (0, 9): 'fill Y', (4, 0): 'fill X'}\n",
    "\n",
    ">>> _(successors(3, 5, 4, 9))\n",
    "{(0, 5): 'empty X',\n",
    " (0, 8): 'X->Y',\n",
    " (3, 0): 'empty Y',\n",
    " (3, 9): 'fill Y',\n",
    " (4, 4): 'X<-Y',\n",
    " (4, 5): 'fill X'}\n",
    "\n",
    ">>> _(successors(3, 7, 4, 9))\n",
    "{(0, 7): 'empty X',\n",
    " (1, 9): 'X->Y',\n",
    " (3, 0): 'empty Y',\n",
    " (3, 9): 'fill Y',\n",
    " (4, 6): 'X<-Y',\n",
    " (4, 7): 'fill X'}\n",
    " \n",
    ">>> pour_solution(4, 9, 6)\n",
    "[(0, 0), 'fill Y', (0, 9), 'X<-Y', (4, 5), 'empty X', (0, 5), 'X<-Y', (4, 1), 'empty X', (0, 1), \\\n",
    "'X<-Y', (1, 0), 'fill Y', (1, 9), 'X<-Y', (4, 6)]\n",
    "\"\"\"\n",
    "\n",
    "print doctest.testmod()"
   ]
  },
  {
   "cell_type": "markdown",
   "metadata": {
    "collapsed": true
   },
   "source": [
    "# Bridge Problem"
   ]
  },
  {
   "cell_type": "code",
   "execution_count": 1,
   "metadata": {
    "collapsed": false
   },
   "outputs": [
    {
     "name": "stdout",
     "output_type": "stream",
     "text": [
      "tests pass\n"
     ]
    }
   ],
   "source": [
    "def bsuccessors(state):\n",
    "    \"\"\"Return a dict of {state:action} pairs.  A state is a (here, there, t) tuple,\n",
    "    where here and there are frozensets of people (indicated by their times) and/or\n",
    "    the light, and t is a number indicating the elapsed time.\"\"\"\n",
    "    here, there, t = state\n",
    "    if 'light' in here:\n",
    "        return dict(((here  - frozenset([a,b, 'light']),\n",
    "                      there | frozenset([a, b, 'light']),\n",
    "                      t + max(a, b)),\n",
    "                     (a, b, '->'))\n",
    "                    for a in here if a is not 'light'\n",
    "                    for b in here if b is not 'light')\n",
    "    else:\n",
    "        return dict(((here  | frozenset([a,b, 'light']),\n",
    "                      there - frozenset([a, b, 'light']),\n",
    "                      t + max(a, b)),\n",
    "                     (a, b, '<-'))\n",
    "                    for a in there if a is not 'light'\n",
    "                    for b in there if b is not 'light')  \n",
    "        \n",
    "def elapsed_time(path):\n",
    "    return path[-1][2]\n",
    "\n",
    "def bridge_problem(here):\n",
    "    \"\"\"Modify this to test for goal later: after pulling a state off frontier,\n",
    "    not when we are about to put it on the frontier.\"\"\"\n",
    "    ## modify code below\n",
    "    here = frozenset(here) | frozenset(['light'])\n",
    "    explored = set() # set of states we have visited\n",
    "    # State will be a (people-here, people-there, time-elapsed)\n",
    "    frontier = [ [(here, frozenset(), 0)] ] # ordered list of paths we have blazed\n",
    "    if not here:\n",
    "        return frontier[0]\n",
    "    while frontier:\n",
    "        path = frontier.pop(0)\n",
    "        here1, there1, t1 = state1 = path[-1]\n",
    "        if not here1 or here1 == set(['light']): # Check for solution when we pull the best path\n",
    "            return path\n",
    "        for (state, action) in bsuccessors(state1).items():\n",
    "            if state not in explored:\n",
    "                here, there, t = state\n",
    "                explored.add(state)\n",
    "                path2 = path + [action, state]\n",
    "                # Don't check for solution when we extend a path\n",
    "                frontier.append(path2)\n",
    "                frontier.sort(key=elapsed_time)\n",
    "    return []\n",
    "\n",
    "def test():\n",
    "    assert bridge_problem(frozenset((1, 2),))[-1][-1] == 2 # the [-1][-1] grabs the total elapsed time\n",
    "    assert bridge_problem(frozenset((1, 2, 5, 10),))[-1][-1] == 17\n",
    "    return 'tests pass'\n",
    "\n",
    "print test()"
   ]
  },
  {
   "cell_type": "code",
   "execution_count": 28,
   "metadata": {
    "collapsed": false
   },
   "outputs": [
    {
     "name": "stdout",
     "output_type": "stream",
     "text": [
      "[(frozenset([1, 2, 'light', 10, 5]), frozenset([])), ((2, 1, '->'), 2), (frozenset([10, 5]), frozenset([1, 2, 'light'])), ((2, 2, '<-'), 4), (frozenset(['light', 10, 2, 5]), frozenset([1])), ((5, 10, '->'), 14), (frozenset([2]), frozenset([1, 10, 5, 'light'])), ((1, 1, '<-'), 15), (frozenset([1, 2, 'light']), frozenset([10, 5])), ((2, 1, '->'), 17), (frozenset([]), frozenset([1, 10, 2, 5, 'light']))]\n",
      "tests pass\n"
     ]
    }
   ],
   "source": [
    "def bsuccessors2(state):\n",
    "    \"\"\"Return a dict of {state:action} pairs. A state is a\n",
    "    (here, there) tuple, where here and there are frozensets\n",
    "    of people (indicated by their travel times) and/or the light.\"\"\"\n",
    "    here, there = state\n",
    "    if 'light' in here:\n",
    "        return dict(((here  - frozenset([a,b, 'light']),\n",
    "                      there | frozenset([a, b, 'light'])),\n",
    "                     (a, b, '->'))\n",
    "                    for a in here if a is not 'light'\n",
    "                    for b in here if b is not 'light')\n",
    "    else:\n",
    "        return dict(((here  | frozenset([a,b, 'light']),\n",
    "                      there - frozenset([a, b, 'light'])),\n",
    "                     (a, b, '<-'))\n",
    "                    for a in there if a is not 'light'\n",
    "                    for b in there if b is not 'light')\n",
    "    \n",
    "def path_cost(path):\n",
    "    \"\"\"The total cost of a path (which is stored in a tuple\n",
    "    with the final action.\"\"\"\n",
    "    # path = (state, (action, total_cost), state, ... )\n",
    "    if len(path) < 3:\n",
    "        return 0\n",
    "    else:\n",
    "        action, total_cost = path[-2]\n",
    "        return total_cost\n",
    "        \n",
    "def bcost(action):\n",
    "    \"\"\"Returns the cost (a number) of an action in the\n",
    "    bridge problem.\"\"\"\n",
    "    # An action is an (a, b, arrow) tuple; a and b are \n",
    "    # times; arrow is a string. \n",
    "    a, b, arrow = action\n",
    "    return max(a, b)\n",
    "\n",
    "def elapsed_time(path):\n",
    "    return path[-1][2]\n",
    "\n",
    "def final_state(path):\n",
    "    return path[-1]\n",
    "\n",
    "def add_to_frontier(frontier, path):\n",
    "    \"\"\"Add path to frontier, replacing costlier path if there is one.\"\"\"\n",
    "    old = None\n",
    "    for i, p in enumerate(frontier):\n",
    "        if final_state(p) == final_state(path):\n",
    "            old = i\n",
    "            break\n",
    "    if old is not None and path_cost(frontier[i]) < path_cost(path):\n",
    "        return # Old one is better\n",
    "    elif old is not None:\n",
    "        del frontier[old] # Old one is worse\n",
    "    frontier.append(path)\n",
    "    frontier.sort(key=path_cost)\n",
    "    \n",
    "def bridge_problem2(here):\n",
    "    \"\"\"Modify this to test for goal later: after pulling a state off frontier,\n",
    "    not when we are about to put it on the frontier.\"\"\"\n",
    "    ## modify code below\n",
    "    here = frozenset(here) | frozenset(['light'])\n",
    "    # State will be a (people-here, people-there)\n",
    "    frontier = [ [(here, frozenset())] ] # ordered list of paths we have blazed\n",
    "    if not here:\n",
    "        return frontier[0]\n",
    "    while frontier:\n",
    "        path = frontier.pop(0)\n",
    "        here1, _ = state1 = final_state(path)\n",
    "        if not here1 or here1 == set(['light']): # Check for solution when we pull the best path\n",
    "            return path\n",
    "        pcost = path_cost(path)\n",
    "        for (state, action) in bsuccessors2(state1).items():\n",
    "            total_cost = bcost(action) + pcost\n",
    "            path2 = path + [(action, total_cost), state]\n",
    "            add_to_frontier(frontier, path2)\n",
    "    return []\n",
    "\n",
    "def test():\n",
    "    print bridge_problem2(frozenset((1, 2, 5, 10),))\n",
    "#     assert path_cost(bridge_problem2(frozenset((1, 2),))) == 2 # the [-1][-1] grabs the total elapsed time\n",
    "#     assert path_cost(bridge_problem2(frozenset((1, 2, 5, 10),))) == 17\n",
    "    return 'tests pass'\n",
    "\n",
    "print test()"
   ]
  },
  {
   "cell_type": "code",
   "execution_count": null,
   "metadata": {
    "collapsed": true
   },
   "outputs": [],
   "source": []
  }
 ],
 "metadata": {
  "kernelspec": {
   "display_name": "Python 2",
   "language": "python",
   "name": "python2"
  },
  "language_info": {
   "codemirror_mode": {
    "name": "ipython",
    "version": 2
   },
   "file_extension": ".py",
   "mimetype": "text/x-python",
   "name": "python",
   "nbconvert_exporter": "python",
   "pygments_lexer": "ipython2",
   "version": "2.7.11"
  }
 },
 "nbformat": 4,
 "nbformat_minor": 0
}
